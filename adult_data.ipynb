{
 "cells": [
  {
   "cell_type": "code",
   "execution_count": 2,
   "metadata": {},
   "outputs": [],
   "source": [
    "import os\n",
    "from src import *\n",
    "from src.data_classes.adult_data import *\n",
    "from src.data_classes.compas_data import *\n",
    "from typing import List, Dict\n",
    "import matplotlib.pyplot as plt\n",
    "import numpy as np\n",
    "import matplotlib.cm as cm"
   ]
  },
  {
   "cell_type": "code",
   "execution_count": 3,
   "metadata": {},
   "outputs": [],
   "source": [
    "data = AdultData().dataset_orig\n",
    "\n",
    "# description of the dataset\n",
    "#https://www.cs.toronto.edu/~delve/data/adult/adultDetail.html\n",
    "\n",
    "#https://www.kaggle.com/datasets/uciml/adult-census-income "
   ]
  },
  {
   "cell_type": "code",
   "execution_count": 4,
   "metadata": {},
   "outputs": [
    {
     "name": "stdout",
     "output_type": "stream",
     "text": [
      "Intersection Counts:\n",
      "Probability           0     1\n",
      "workclass                    \n",
      "?                  1645   191\n",
      "Federal-gov         589   371\n",
      "Local-gov          1476   617\n",
      "Never-worked          7     0\n",
      "Private           17733  4963\n",
      "Self-emp-inc        494   622\n",
      "Self-emp-not-inc   1817   724\n",
      "State-gov           945   353\n",
      "Without-pay          14     0\n",
      "Ratio between counts of 'Y' and 'X' for each category in 'Category1':\n",
      "workclass\n",
      "?                   8.612565\n",
      "Federal-gov         1.587601\n",
      "Local-gov           2.392220\n",
      "Never-worked             inf\n",
      "Private             3.573040\n",
      "Self-emp-inc        0.794212\n",
      "Self-emp-not-inc    2.509669\n",
      "State-gov           2.677054\n",
      "Without-pay              inf\n",
      "dtype: float64\n"
     ]
    },
    {
     "data": {
      "text/plain": [
       "'\\ncolclusion: \\n[Never-worked, Without-pay] -> ?\\n[Local-gov, State-gov] -> Non-federal-gov\\n'"
      ]
     },
     "execution_count": 4,
     "metadata": {},
     "output_type": "execute_result"
    }
   ],
   "source": [
    "# workclass\n",
    "intersection_counts = pd.crosstab(data['workclass'], data['Probability'])\n",
    "\n",
    "# Display the result\n",
    "print(\"Intersection Counts:\")\n",
    "print(intersection_counts)\n",
    "\n",
    "ratio_y_to_x = intersection_counts[0] / intersection_counts[1]\n",
    "\n",
    "# Display the result\n",
    "print(\"Ratio between counts of 'Y' and 'X' for each category in 'Category1':\")\n",
    "print(ratio_y_to_x)\n",
    "\n",
    "\"\"\"\n",
    "colclusion: \n",
    "[Never-worked, Without-pay] -> ?\n",
    "[Local-gov, State-gov] -> Non-federal-gov\n",
    "\"\"\""
   ]
  },
  {
   "cell_type": "code",
   "execution_count": 5,
   "metadata": {},
   "outputs": [
    {
     "name": "stdout",
     "output_type": "stream",
     "text": [
      "Intersection Counts:\n",
      "education-num  1    2    3    4    5    6     7    8      9     10    11  \\\n",
      "education                                                                  \n",
      "10th            0    0    0    0    0  933     0    0      0     0     0   \n",
      "11th            0    0    0    0    0    0  1175    0      0     0     0   \n",
      "12th            0    0    0    0    0    0     0  433      0     0     0   \n",
      "1st-4th         0  168    0    0    0    0     0    0      0     0     0   \n",
      "5th-6th         0    0  333    0    0    0     0    0      0     0     0   \n",
      "7th-8th         0    0    0  646    0    0     0    0      0     0     0   \n",
      "9th             0    0    0    0  514    0     0    0      0     0     0   \n",
      "Assoc-acdm      0    0    0    0    0    0     0    0      0     0     0   \n",
      "Assoc-voc       0    0    0    0    0    0     0    0      0     0  1382   \n",
      "Bachelors       0    0    0    0    0    0     0    0      0     0     0   \n",
      "Doctorate       0    0    0    0    0    0     0    0      0     0     0   \n",
      "HS-grad         0    0    0    0    0    0     0    0  10501     0     0   \n",
      "Masters         0    0    0    0    0    0     0    0      0     0     0   \n",
      "Preschool      51    0    0    0    0    0     0    0      0     0     0   \n",
      "Prof-school     0    0    0    0    0    0     0    0      0     0     0   \n",
      "Some-college    0    0    0    0    0    0     0    0      0  7291     0   \n",
      "\n",
      "education-num    12    13    14   15   16  \n",
      "education                                  \n",
      "10th              0     0     0    0    0  \n",
      "11th              0     0     0    0    0  \n",
      "12th              0     0     0    0    0  \n",
      "1st-4th           0     0     0    0    0  \n",
      "5th-6th           0     0     0    0    0  \n",
      "7th-8th           0     0     0    0    0  \n",
      "9th               0     0     0    0    0  \n",
      "Assoc-acdm     1067     0     0    0    0  \n",
      "Assoc-voc         0     0     0    0    0  \n",
      "Bachelors         0  5355     0    0    0  \n",
      "Doctorate         0     0     0    0  413  \n",
      "HS-grad           0     0     0    0    0  \n",
      "Masters           0     0  1723    0    0  \n",
      "Preschool         0     0     0    0    0  \n",
      "Prof-school       0     0     0  576    0  \n",
      "Some-college      0     0     0    0    0  \n"
     ]
    },
    {
     "data": {
      "text/plain": [
       "'\\ncolclusion: \\nremove education\\n'"
      ]
     },
     "execution_count": 5,
     "metadata": {},
     "output_type": "execute_result"
    }
   ],
   "source": [
    "intersection_counts = pd.crosstab(data['education'], data['education-num'])\n",
    "\n",
    "# Display the result\n",
    "print(\"Intersection Counts:\")\n",
    "print(intersection_counts)\n",
    "\n",
    "\n",
    "\"\"\"\n",
    "colclusion: \n",
    "remove education\n",
    "\"\"\"\n"
   ]
  },
  {
   "cell_type": "code",
   "execution_count": 6,
   "metadata": {},
   "outputs": [
    {
     "name": "stdout",
     "output_type": "stream",
     "text": [
      "Intersection Counts:\n",
      "Probability                0     1\n",
      "marital-status                    \n",
      "Divorced                3980   463\n",
      "Married-AF-spouse         13    10\n",
      "Married-civ-spouse      8284  6692\n",
      "Married-spouse-absent    384    34\n",
      "Never-married          10192   491\n",
      "Separated                959    66\n",
      "Widowed                  908    85\n",
      "Ratio between counts of 'Y' and 'X' for each category in 'Category1':\n",
      "marital-status\n",
      "Divorced                  8.596112\n",
      "Married-AF-spouse         1.300000\n",
      "Married-civ-spouse        1.237896\n",
      "Married-spouse-absent    11.294118\n",
      "Never-married            20.757637\n",
      "Separated                14.530303\n",
      "Widowed                  10.682353\n",
      "dtype: float64\n"
     ]
    },
    {
     "data": {
      "text/plain": [
       "'\\nMarried-AF-spouse  Married-civ-spouse  -> 1\\nothers -> 0\\n'"
      ]
     },
     "execution_count": 6,
     "metadata": {},
     "output_type": "execute_result"
    }
   ],
   "source": [
    "intersection_counts = pd.crosstab(data['marital-status'], data['Probability'])\n",
    "\n",
    "# Display the result\n",
    "print(\"Intersection Counts:\")\n",
    "print(intersection_counts)\n",
    "\n",
    "ratio_y_to_x = intersection_counts[0] / intersection_counts[1]\n",
    "\n",
    "# Display the result\n",
    "print(\"Ratio between counts of 'Y' and 'X' for each category in 'Category1':\")\n",
    "print(ratio_y_to_x)\n",
    "\n",
    "\"\"\"\n",
    "Married-AF-spouse  Married-civ-spouse  -> 1\n",
    "others -> 0\n",
    "\"\"\"\n"
   ]
  },
  {
   "cell_type": "code",
   "execution_count": 8,
   "metadata": {},
   "outputs": [
    {
     "name": "stdout",
     "output_type": "stream",
     "text": [
      "Intersection Counts:\n",
      "Probability           0     1\n",
      "occupation                   \n",
      "?                  1652   191\n",
      "Adm-clerical       3263   507\n",
      "Armed-Forces          8     1\n",
      "Craft-repair       3170   929\n",
      "Exec-managerial    2098  1968\n",
      "Farming-fishing     879   115\n",
      "Handlers-cleaners  1284    86\n",
      "Machine-op-inspct  1752   250\n",
      "Other-service      3158   137\n",
      "Priv-house-serv     148     1\n",
      "Prof-specialty     2281  1859\n",
      "Protective-serv     438   211\n",
      "Sales              2667   983\n",
      "Tech-support        645   283\n",
      "Transport-moving   1277   320\n",
      "Ratio between counts of 'Y' and 'X' for each category in 'Category1':\n",
      "occupation\n",
      "?                      8.649215\n",
      "Adm-clerical           6.435897\n",
      "Armed-Forces           8.000000\n",
      "Craft-repair           3.412271\n",
      "Exec-managerial        1.066057\n",
      "Farming-fishing        7.643478\n",
      "Handlers-cleaners     14.930233\n",
      "Machine-op-inspct      7.008000\n",
      "Other-service         23.051095\n",
      "Priv-house-serv      148.000000\n",
      "Prof-specialty         1.227004\n",
      "Protective-serv        2.075829\n",
      "Sales                  2.713123\n",
      "Tech-support           2.279152\n",
      "Transport-moving       3.990625\n",
      "dtype: float64\n"
     ]
    }
   ],
   "source": [
    "intersection_counts = pd.crosstab(data['occupation'], data['Probability'])\n",
    "\n",
    "# Display the result\n",
    "print(\"Intersection Counts:\")\n",
    "print(intersection_counts)\n",
    "\n",
    "ratio_y_to_x = intersection_counts[0] / intersection_counts[1]\n",
    "\n",
    "# Display the result\n",
    "print(\"Ratio between counts of 'Y' and 'X' for each category in 'Category1':\")\n",
    "print(ratio_y_to_x)\n"
   ]
  },
  {
   "cell_type": "code",
   "execution_count": null,
   "metadata": {},
   "outputs": [
    {
     "name": "stdout",
     "output_type": "stream",
     "text": [
      "Intersection Counts:\n",
      "relationship           Husband  Not-in-family  Other-relative  Own-child  \\\n",
      "marital-status                                                             \n",
      "Divorced                     0           2404             110        328   \n",
      "Married-AF-spouse            9              0               1          1   \n",
      "Married-civ-spouse       13184             17             124         95   \n",
      "Married-spouse-absent        0            211              32         45   \n",
      "Never-married                0           4706             611       4485   \n",
      "Separated                    0            420              55         99   \n",
      "Widowed                      0            547              48         15   \n",
      "\n",
      "relationship           Unmarried  Wife  \n",
      "marital-status                          \n",
      "Divorced                    1601     0  \n",
      "Married-AF-spouse              0    12  \n",
      "Married-civ-spouse             0  1556  \n",
      "Married-spouse-absent        130     0  \n",
      "Never-married                881     0  \n",
      "Separated                    451     0  \n",
      "Widowed                      383     0  \n",
      "Intersection Counts:\n",
      "Probability        0     1\n",
      "relationship              \n",
      "Husband         7275  5918\n",
      "Not-in-family   7449   856\n",
      "Other-relative   944    37\n",
      "Own-child       5001    67\n",
      "Unmarried       3228   218\n",
      "Wife             823   745\n",
      "Ratio between counts of 'Y' and 'X' for each category in 'Category1':\n",
      "relationship\n",
      "Husband            1.229300\n",
      "Not-in-family      8.702103\n",
      "Other-relative    25.513514\n",
      "Own-child         74.641791\n",
      "Unmarried         14.807339\n",
      "Wife               1.104698\n",
      "dtype: float64\n"
     ]
    },
    {
     "data": {
      "text/plain": [
       "'\\nHusband and wife straight up give away gender except for verrry few cases (3)!!!\\nUnmarried is also vey repetitive...\\n'"
      ]
     },
     "execution_count": 19,
     "metadata": {},
     "output_type": "execute_result"
    }
   ],
   "source": [
    "intersection_counts = pd.crosstab(data['marital-status'], data['relationship'])\n",
    "\n",
    "# Display the result\n",
    "print(\"Intersection Counts:\")\n",
    "print(intersection_counts)\n",
    "\n",
    "\n",
    "\n",
    "intersection_counts = pd.crosstab(data['relationship'], data['Probability'])\n",
    "\n",
    "# Display the result\n",
    "print(\"Intersection Counts:\")\n",
    "print(intersection_counts)\n",
    "\n",
    "\n",
    "ratio_y_to_x = intersection_counts[0] / intersection_counts[1]\n",
    "\n",
    "# Display the result\n",
    "print(\"Ratio between counts of 'Y' and 'X' for each category in 'Category1':\")\n",
    "print(ratio_y_to_x)\n",
    "\n",
    "\"\"\"\n",
    "Husband and wife straight up give away gender except for verrry few cases (3)!!!\n",
    "Unmarried is also vey repetitive...\n",
    "\n",
    "Only relative columns seem \n",
    "Other-relative   \n",
    "Own-child  \n",
    "Spouse (Husband/Wife)\n",
    "None (THe rest)       \n",
    "\n",
    "\"\"\"\n"
   ]
  },
  {
   "cell_type": "code",
   "execution_count": null,
   "metadata": {},
   "outputs": [
    {
     "name": "stdout",
     "output_type": "stream",
     "text": [
      "Intersection Counts:\n",
      "race                           0      1\n",
      "native-country                         \n",
      "?                            197    386\n",
      "Cambodia                      19      0\n",
      "Canada                         2    119\n",
      "China                         73      2\n",
      "Columbia                       8     51\n",
      "Cuba                           5     90\n",
      "Dominican-Republic            31     39\n",
      "Ecuador                        9     19\n",
      "El-Salvador                    5    101\n",
      "England                        9     81\n",
      "France                         1     28\n",
      "Germany                       13    124\n",
      "Greece                         1     28\n",
      "Guatemala                      4     60\n",
      "Haiti                         44      0\n",
      "Holand-Netherlands             0      1\n",
      "Honduras                       1     12\n",
      "Hong                          18      2\n",
      "Hungary                        0     13\n",
      "India                         92      8\n",
      "Iran                           8     35\n",
      "Ireland                        1     23\n",
      "Italy                          0     73\n",
      "Jamaica                       76      5\n",
      "Japan                         43     19\n",
      "Laos                          18      0\n",
      "Mexico                        53    590\n",
      "Nicaragua                      6     28\n",
      "Outlying-US(Guam-USVI-etc)     6      8\n",
      "Peru                           1     30\n",
      "Philippines                  190      8\n",
      "Poland                         1     59\n",
      "Portugal                       1     36\n",
      "Puerto-Rico                   32     82\n",
      "Scotland                       0     12\n",
      "South                         79      1\n",
      "Taiwan                        49      2\n",
      "Thailand                      16      2\n",
      "Trinadad&Tobago               19      0\n",
      "United-States               3549  25621\n",
      "Vietnam                       65      2\n",
      "Yugoslavia                     0     16\n",
      "Ratio between counts of 'Y' and 'X' for each category in 'Category1':\n",
      "native-country\n",
      "?                              0.510363\n",
      "Cambodia                            inf\n",
      "Canada                         0.016807\n",
      "China                         36.500000\n",
      "Columbia                       0.156863\n",
      "Cuba                           0.055556\n",
      "Dominican-Republic             0.794872\n",
      "Ecuador                        0.473684\n",
      "El-Salvador                    0.049505\n",
      "England                        0.111111\n",
      "France                         0.035714\n",
      "Germany                        0.104839\n",
      "Greece                         0.035714\n",
      "Guatemala                      0.066667\n",
      "Haiti                               inf\n",
      "Holand-Netherlands             0.000000\n",
      "Honduras                       0.083333\n",
      "Hong                           9.000000\n",
      "Hungary                        0.000000\n",
      "India                         11.500000\n",
      "Iran                           0.228571\n",
      "Ireland                        0.043478\n",
      "Italy                          0.000000\n",
      "Jamaica                       15.200000\n",
      "Japan                          2.263158\n",
      "Laos                                inf\n",
      "Mexico                         0.089831\n",
      "Nicaragua                      0.214286\n",
      "Outlying-US(Guam-USVI-etc)     0.750000\n",
      "Peru                           0.033333\n",
      "Philippines                   23.750000\n",
      "Poland                         0.016949\n",
      "Portugal                       0.027778\n",
      "Puerto-Rico                    0.390244\n",
      "Scotland                       0.000000\n",
      "South                         79.000000\n",
      "Taiwan                        24.500000\n",
      "Thailand                       8.000000\n",
      "Trinadad&Tobago                     inf\n",
      "United-States                  0.138519\n",
      "Vietnam                       32.500000\n",
      "Yugoslavia                     0.000000\n",
      "dtype: float64\n"
     ]
    }
   ],
   "source": [
    "intersection_counts = pd.crosstab(data['native-country'], data['race'])\n",
    "\n",
    "# Display the result\n",
    "print(\"Intersection Counts:\")\n",
    "print(intersection_counts)\n",
    "\n",
    "\n",
    "ratio_y_to_x = intersection_counts[0] / intersection_counts[1]\n",
    "\n",
    "# Display the result\n",
    "print(\"Ratio between counts of 'Y' and 'X' for each category in 'Category1':\")\n",
    "print(ratio_y_to_x)"
   ]
  },
  {
   "cell_type": "code",
   "execution_count": null,
   "metadata": {},
   "outputs": [],
   "source": []
  }
 ],
 "metadata": {
  "kernelspec": {
   "display_name": "Python 3",
   "language": "python",
   "name": "python3"
  },
  "language_info": {
   "codemirror_mode": {
    "name": "ipython",
    "version": 3
   },
   "file_extension": ".py",
   "mimetype": "text/x-python",
   "name": "python",
   "nbconvert_exporter": "python",
   "pygments_lexer": "ipython3",
   "version": "3.9.13"
  }
 },
 "nbformat": 4,
 "nbformat_minor": 2
}
