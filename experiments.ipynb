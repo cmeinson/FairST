{
 "cells": [
  {
   "cell_type": "code",
   "execution_count": 1,
   "metadata": {},
   "outputs": [],
   "source": [
    "import os\n",
    "from src import *\n",
    "from src.data_classes.adult_data import *\n",
    "from src.data_classes.compas_data import *\n",
    "from typing import List, Dict\n",
    "import matplotlib.pyplot as plt\n",
    "import numpy as np\n",
    "import matplotlib.cm as cm"
   ]
  },
  {
   "cell_type": "code",
   "execution_count": 6,
   "metadata": {},
   "outputs": [],
   "source": [
    "data = AdultData().dataset_orig\n",
    "\n",
    "# description of the dataset\n",
    "#https://www.cs.toronto.edu/~delve/data/adult/adultDetail.html\n",
    "\n",
    "#https://www.kaggle.com/datasets/uciml/adult-census-income "
   ]
  },
  {
   "cell_type": "code",
   "execution_count": 10,
   "metadata": {},
   "outputs": [
    {
     "name": "stdout",
     "output_type": "stream",
     "text": [
      "Intersection Counts:\n",
      "Probability           0     1\n",
      "workclass                    \n",
      "?                  1645   191\n",
      "Federal-gov         589   371\n",
      "Local-gov          1476   617\n",
      "Never-worked          7     0\n",
      "Private           17733  4963\n",
      "Self-emp-inc        494   622\n",
      "Self-emp-not-inc   1817   724\n",
      "State-gov           945   353\n",
      "Without-pay          14     0\n",
      "Ratio between counts of 'Y' and 'X' for each category in 'Category1':\n",
      "workclass\n",
      "?                   8.612565\n",
      "Federal-gov         1.587601\n",
      "Local-gov           2.392220\n",
      "Never-worked             inf\n",
      "Private             3.573040\n",
      "Self-emp-inc        0.794212\n",
      "Self-emp-not-inc    2.509669\n",
      "State-gov           2.677054\n",
      "Without-pay              inf\n",
      "dtype: float64\n"
     ]
    }
   ],
   "source": [
    "# workclass\n",
    "intersection_counts = pd.crosstab(data['workclass'], data['Probability'])\n",
    "\n",
    "# Display the result\n",
    "print(\"Intersection Counts:\")\n",
    "print(intersection_counts)\n",
    "\n",
    "ratio_y_to_x = intersection_counts[0] / intersection_counts[1]\n",
    "\n",
    "# Display the result\n",
    "print(\"Ratio between counts of 'Y' and 'X' for each category in 'Category1':\")\n",
    "print(ratio_y_to_x)\n",
    "\n",
    "\"\"\"\n",
    "colclusion: \n",
    "[Never-worked, Without-pay] -> ?\n",
    "[Local-gov, State-gov] -> Non-federal-gov\n",
    "\"\"\""
   ]
  },
  {
   "cell_type": "code",
   "execution_count": 13,
   "metadata": {},
   "outputs": [
    {
     "name": "stdout",
     "output_type": "stream",
     "text": [
      "Intersection Counts:\n",
      "education-num  1    2    3    4    5    6     7    8      9     10    11  \\\n",
      "education                                                                  \n",
      "10th            0    0    0    0    0  933     0    0      0     0     0   \n",
      "11th            0    0    0    0    0    0  1175    0      0     0     0   \n",
      "12th            0    0    0    0    0    0     0  433      0     0     0   \n",
      "1st-4th         0  168    0    0    0    0     0    0      0     0     0   \n",
      "5th-6th         0    0  333    0    0    0     0    0      0     0     0   \n",
      "7th-8th         0    0    0  646    0    0     0    0      0     0     0   \n",
      "9th             0    0    0    0  514    0     0    0      0     0     0   \n",
      "Assoc-acdm      0    0    0    0    0    0     0    0      0     0     0   \n",
      "Assoc-voc       0    0    0    0    0    0     0    0      0     0  1382   \n",
      "Bachelors       0    0    0    0    0    0     0    0      0     0     0   \n",
      "Doctorate       0    0    0    0    0    0     0    0      0     0     0   \n",
      "HS-grad         0    0    0    0    0    0     0    0  10501     0     0   \n",
      "Masters         0    0    0    0    0    0     0    0      0     0     0   \n",
      "Preschool      51    0    0    0    0    0     0    0      0     0     0   \n",
      "Prof-school     0    0    0    0    0    0     0    0      0     0     0   \n",
      "Some-college    0    0    0    0    0    0     0    0      0  7291     0   \n",
      "\n",
      "education-num    12    13    14   15   16  \n",
      "education                                  \n",
      "10th              0     0     0    0    0  \n",
      "11th              0     0     0    0    0  \n",
      "12th              0     0     0    0    0  \n",
      "1st-4th           0     0     0    0    0  \n",
      "5th-6th           0     0     0    0    0  \n",
      "7th-8th           0     0     0    0    0  \n",
      "9th               0     0     0    0    0  \n",
      "Assoc-acdm     1067     0     0    0    0  \n",
      "Assoc-voc         0     0     0    0    0  \n",
      "Bachelors         0  5355     0    0    0  \n",
      "Doctorate         0     0     0    0  413  \n",
      "HS-grad           0     0     0    0    0  \n",
      "Masters           0     0  1723    0    0  \n",
      "Preschool         0     0     0    0    0  \n",
      "Prof-school       0     0     0  576    0  \n",
      "Some-college      0     0     0    0    0  \n"
     ]
    },
    {
     "data": {
      "text/plain": [
       "'\\ncolclusion: \\nremove education\\n'"
      ]
     },
     "execution_count": 13,
     "metadata": {},
     "output_type": "execute_result"
    }
   ],
   "source": [
    "intersection_counts = pd.crosstab(data['education'], data['education-num'])\n",
    "\n",
    "# Display the result\n",
    "print(\"Intersection Counts:\")\n",
    "print(intersection_counts)\n",
    "\n",
    "\n",
    "\"\"\"\n",
    "colclusion: \n",
    "remove education\n",
    "\"\"\"\n"
   ]
  },
  {
   "cell_type": "code",
   "execution_count": 14,
   "metadata": {},
   "outputs": [
    {
     "name": "stdout",
     "output_type": "stream",
     "text": [
      "Intersection Counts:\n",
      "Probability                0     1\n",
      "marital-status                    \n",
      "Divorced                3980   463\n",
      "Married-AF-spouse         13    10\n",
      "Married-civ-spouse      8284  6692\n",
      "Married-spouse-absent    384    34\n",
      "Never-married          10192   491\n",
      "Separated                959    66\n",
      "Widowed                  908    85\n",
      "Ratio between counts of 'Y' and 'X' for each category in 'Category1':\n",
      "marital-status\n",
      "Divorced                  8.596112\n",
      "Married-AF-spouse         1.300000\n",
      "Married-civ-spouse        1.237896\n",
      "Married-spouse-absent    11.294118\n",
      "Never-married            20.757637\n",
      "Separated                14.530303\n",
      "Widowed                  10.682353\n",
      "dtype: float64\n"
     ]
    }
   ],
   "source": [
    "intersection_counts = pd.crosstab(data['marital-status'], data['Probability'])\n",
    "\n",
    "# Display the result\n",
    "print(\"Intersection Counts:\")\n",
    "print(intersection_counts)\n",
    "\n",
    "ratio_y_to_x = intersection_counts[0] / intersection_counts[1]\n",
    "\n",
    "# Display the result\n",
    "print(\"Ratio between counts of 'Y' and 'X' for each category in 'Category1':\")\n",
    "print(ratio_y_to_x)\n",
    "\n",
    "\"\"\"\n",
    "merge Married-AF-spouse  into Married-civ-spouse as it is tiny and same ratio\n",
    "\"\"\"\n"
   ]
  },
  {
   "cell_type": "code",
   "execution_count": 15,
   "metadata": {},
   "outputs": [
    {
     "name": "stdout",
     "output_type": "stream",
     "text": [
      "Intersection Counts:\n",
      "Probability           0     1\n",
      "occupation                   \n",
      "?                  1652   191\n",
      "Adm-clerical       3263   507\n",
      "Armed-Forces          8     1\n",
      "Craft-repair       3170   929\n",
      "Exec-managerial    2098  1968\n",
      "Farming-fishing     879   115\n",
      "Handlers-cleaners  1284    86\n",
      "Machine-op-inspct  1752   250\n",
      "Other-service      3158   137\n",
      "Priv-house-serv     148     1\n",
      "Prof-specialty     2281  1859\n",
      "Protective-serv     438   211\n",
      "Sales              2667   983\n",
      "Tech-support        645   283\n",
      "Transport-moving   1277   320\n",
      "Ratio between counts of 'Y' and 'X' for each category in 'Category1':\n",
      "occupation\n",
      "?                      8.649215\n",
      "Adm-clerical           6.435897\n",
      "Armed-Forces           8.000000\n",
      "Craft-repair           3.412271\n",
      "Exec-managerial        1.066057\n",
      "Farming-fishing        7.643478\n",
      "Handlers-cleaners     14.930233\n",
      "Machine-op-inspct      7.008000\n",
      "Other-service         23.051095\n",
      "Priv-house-serv      148.000000\n",
      "Prof-specialty         1.227004\n",
      "Protective-serv        2.075829\n",
      "Sales                  2.713123\n",
      "Tech-support           2.279152\n",
      "Transport-moving       3.990625\n",
      "dtype: float64\n"
     ]
    }
   ],
   "source": [
    "intersection_counts = pd.crosstab(data['occupation'], data['Probability'])\n",
    "\n",
    "# Display the result\n",
    "print(\"Intersection Counts:\")\n",
    "print(intersection_counts)\n",
    "\n",
    "ratio_y_to_x = intersection_counts[0] / intersection_counts[1]\n",
    "\n",
    "# Display the result\n",
    "print(\"Ratio between counts of 'Y' and 'X' for each category in 'Category1':\")\n",
    "print(ratio_y_to_x)\n"
   ]
  },
  {
   "cell_type": "code",
   "execution_count": 19,
   "metadata": {},
   "outputs": [
    {
     "name": "stdout",
     "output_type": "stream",
     "text": [
      "Intersection Counts:\n",
      "relationship           Husband  Not-in-family  Other-relative  Own-child  \\\n",
      "marital-status                                                             \n",
      "Divorced                     0           2404             110        328   \n",
      "Married-AF-spouse            9              0               1          1   \n",
      "Married-civ-spouse       13184             17             124         95   \n",
      "Married-spouse-absent        0            211              32         45   \n",
      "Never-married                0           4706             611       4485   \n",
      "Separated                    0            420              55         99   \n",
      "Widowed                      0            547              48         15   \n",
      "\n",
      "relationship           Unmarried  Wife  \n",
      "marital-status                          \n",
      "Divorced                    1601     0  \n",
      "Married-AF-spouse              0    12  \n",
      "Married-civ-spouse             0  1556  \n",
      "Married-spouse-absent        130     0  \n",
      "Never-married                881     0  \n",
      "Separated                    451     0  \n",
      "Widowed                      383     0  \n",
      "Intersection Counts:\n",
      "Probability        0     1\n",
      "relationship              \n",
      "Husband         7275  5918\n",
      "Not-in-family   7449   856\n",
      "Other-relative   944    37\n",
      "Own-child       5001    67\n",
      "Unmarried       3228   218\n",
      "Wife             823   745\n",
      "Ratio between counts of 'Y' and 'X' for each category in 'Category1':\n",
      "relationship\n",
      "Husband            1.229300\n",
      "Not-in-family      8.702103\n",
      "Other-relative    25.513514\n",
      "Own-child         74.641791\n",
      "Unmarried         14.807339\n",
      "Wife               1.104698\n",
      "dtype: float64\n"
     ]
    },
    {
     "data": {
      "text/plain": [
       "'\\nHusband and wife straight up give away gender except for verrry few cases (3)!!!\\nUnmarried is also vey repetitive...\\n'"
      ]
     },
     "execution_count": 19,
     "metadata": {},
     "output_type": "execute_result"
    }
   ],
   "source": [
    "intersection_counts = pd.crosstab(data['marital-status'], data['relationship'])\n",
    "\n",
    "# Display the result\n",
    "print(\"Intersection Counts:\")\n",
    "print(intersection_counts)\n",
    "\n",
    "\n",
    "\n",
    "intersection_counts = pd.crosstab(data['relationship'], data['Probability'])\n",
    "\n",
    "# Display the result\n",
    "print(\"Intersection Counts:\")\n",
    "print(intersection_counts)\n",
    "\n",
    "\n",
    "ratio_y_to_x = intersection_counts[0] / intersection_counts[1]\n",
    "\n",
    "# Display the result\n",
    "print(\"Ratio between counts of 'Y' and 'X' for each category in 'Category1':\")\n",
    "print(ratio_y_to_x)\n",
    "\n",
    "\"\"\"\n",
    "Husband and wife straight up give away gender except for verrry few cases (3)!!!\n",
    "Unmarried is also vey repetitive...\n",
    "\n",
    "Only relative columns seem \n",
    "Other-relative   \n",
    "Own-child  \n",
    "Spouse (Husband/Wife)\n",
    "None (THe rest)       \n",
    "\n",
    "\"\"\"\n"
   ]
  },
  {
   "cell_type": "code",
   "execution_count": null,
   "metadata": {},
   "outputs": [],
   "source": []
  }
 ],
 "metadata": {
  "kernelspec": {
   "display_name": "Python 3",
   "language": "python",
   "name": "python3"
  },
  "language_info": {
   "codemirror_mode": {
    "name": "ipython",
    "version": 3
   },
   "file_extension": ".py",
   "mimetype": "text/x-python",
   "name": "python",
   "nbconvert_exporter": "python",
   "pygments_lexer": "ipython3",
   "version": "3.9.13"
  }
 },
 "nbformat": 4,
 "nbformat_minor": 2
}
