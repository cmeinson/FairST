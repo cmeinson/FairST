{
 "cells": [
  {
   "cell_type": "markdown",
   "metadata": {},
   "source": [
    "### Files\n",
    "\n",
    "For all files the values were aggregated over 6 models (NN, LGR, RF, DT, SVM, NB) with 40 iterations each. \n",
    "\n",
    "- CHANGE_(attr).csv -> change percentage from the base model\n",
    "- MEAN_(attr).csv -> mean values over all runs\n",
    "- STD_(attr).csv -> std of values from all runs\n",
    "\n",
    "### RQ1: WHICH LOSS (initial thoughts)\n",
    "\n",
    "Rule out based on prediction performance on adult (compas has good performance for all):\n",
    "- FL the lowest performance on all 4 metrics\n",
    "- FK, L, VAE, also significantly lowest metrics for adult sex and very high variance\n",
    "- F 2nd lowest performance and high var on adult race\n",
    "\n",
    "- FP, LP, P, KL, KP, K all have similar results \n",
    "\n",
    "note that all well performing losses seem to use either K or P\n",
    "\n",
    "\n",
    "BIAS mit performance?\n",
    "\n",
    "KL, KP, K seem to have consistently good DI, SF, ASPD, for botgh datasets and attributes\n",
    "\n",
    "PLAN: \n",
    "keep going with the KL, KP, K\n",
    "KL - is advrserial so ideally would rule it out due to time constraints. if K does not reliably perform this will be suggested as the alternative without using Y labels!!!\n",
    "KP - seems best BUT uses Y. (justify KP by the lower var on adult race aod???? ... sus)\n",
    "K - seems bit more variance and less debias but will wait for enough evidence"
   ]
  },
  {
   "cell_type": "code",
   "execution_count": 1,
   "metadata": {},
   "outputs": [
    {
     "name": "stderr",
     "output_type": "stream",
     "text": [
      "WARNING:root:No module named 'tempeh': LawSchoolGPADataset will be unavailable. To install, run:\n",
      "pip install 'aif360[LawSchoolGPA]'\n",
      "WARNING:root:No module named 'fairlearn': ExponentiatedGradientReduction will be unavailable. To install, run:\n",
      "pip install 'aif360[Reductions]'\n",
      "WARNING:root:No module named 'fairlearn': GridSearchReduction will be unavailable. To install, run:\n",
      "pip install 'aif360[Reductions]'\n",
      "WARNING:root:No module named 'fairlearn': GridSearchReduction will be unavailable. To install, run:\n",
      "pip install 'aif360[Reductions]'\n"
     ]
    }
   ],
   "source": [
    "import os\n",
    "import pandas as pd\n",
    "import matplotlib.pyplot as plt\n",
    "from matplotlib.cm import get_cmap\n",
    "\n",
    "from experiment_utils import *\n",
    "from src import *\n"
   ]
  },
  {
   "cell_type": "markdown",
   "metadata": {},
   "source": [
    "# SAVE TO RESULTS FILE"
   ]
  },
  {
   "cell_type": "code",
   "execution_count": 2,
   "metadata": {},
   "outputs": [],
   "source": [
    "FOLDER = \"RQ1_LOSS_SELECTION\"\n",
    "\n",
    "if not os.path.exists(FOLDER):\n",
    "    os.makedirs(FOLDER)"
   ]
  },
  {
   "cell_type": "code",
   "execution_count": 3,
   "metadata": {},
   "outputs": [],
   "source": [
    "# for each file and each dataset get\n",
    "#   mean value for all metrics\n",
    "#   mean change for all metrics\n",
    "#   mean std for all metrics\n",
    "# averaged over all 6 models"
   ]
  },
  {
   "cell_type": "code",
   "execution_count": 4,
   "metadata": {},
   "outputs": [
    {
     "name": "stdout",
     "output_type": "stream",
     "text": [
      "File 'results\\RESULTS_sex.csv' successfully loaded as DataFrame.\n",
      "File 'results\\RESULTS_race.csv' successfully loaded as DataFrame.\n",
      "File 'results\\RESULTS_race_sex.csv' successfully loaded as DataFrame.\n"
     ]
    }
   ],
   "source": [
    "for attr in [[\"sex\"],[\"race\"],[\"race\", \"sex\"]]:            \n",
    "    files = [os.path.join(\"results\",\"RESULTS_\"+'_'.join(attr)+\".csv\")]\n",
    "    \n",
    "    reader = ResultsReader(files)\n",
    "    \n",
    "    df = reader.get_relative_metrics(use_percent=True)\n",
    "    df[reader.ML] = ''\n",
    "    mean_df = df.groupby(reader.filterable).mean().reset_index()\n",
    "    mean_df.to_csv( os.path.join(FOLDER,\"CHANGE_\"+'_'.join(attr)+'.csv'), index=False)\n",
    "    \n",
    "    df = reader.get_mean_metrics()\n",
    "    df[reader.ML] = ''\n",
    "    mean_df = df.groupby(reader.filterable).mean().reset_index()\n",
    "    mean_df.to_csv(os.path.join(FOLDER,\"MEAN_\"+'_'.join(attr)+'.csv'), index=False)\n",
    "    \n",
    "    df = reader.get_filtered_df()\n",
    "    df[reader.ML] = ''\n",
    "    mean_df = df.groupby(reader.filterable).std().reset_index()\n",
    "    mean_df.to_csv(os.path.join(FOLDER,\"STD_\"+'_'.join(attr)+'.csv'), index=False)\n",
    "\n"
   ]
  },
  {
   "cell_type": "markdown",
   "metadata": {},
   "source": []
  },
  {
   "cell_type": "code",
   "execution_count": null,
   "metadata": {},
   "outputs": [],
   "source": []
  },
  {
   "cell_type": "code",
   "execution_count": null,
   "metadata": {},
   "outputs": [],
   "source": []
  },
  {
   "cell_type": "code",
   "execution_count": null,
   "metadata": {},
   "outputs": [],
   "source": []
  }
 ],
 "metadata": {
  "kernelspec": {
   "display_name": "Python 3",
   "language": "python",
   "name": "python3"
  },
  "language_info": {
   "codemirror_mode": {
    "name": "ipython",
    "version": 3
   },
   "file_extension": ".py",
   "mimetype": "text/x-python",
   "name": "python",
   "nbconvert_exporter": "python",
   "pygments_lexer": "ipython3",
   "version": "3.9.13"
  }
 },
 "nbformat": 4,
 "nbformat_minor": 2
}
