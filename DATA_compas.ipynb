{
 "cells": [
  {
   "cell_type": "code",
   "execution_count": 1,
   "metadata": {},
   "outputs": [
    {
     "name": "stderr",
     "output_type": "stream",
     "text": [
      "WARNING:root:No module named 'tempeh': LawSchoolGPADataset will be unavailable. To install, run:\n",
      "pip install 'aif360[LawSchoolGPA]'\n",
      "WARNING:root:No module named 'fairlearn': ExponentiatedGradientReduction will be unavailable. To install, run:\n",
      "pip install 'aif360[Reductions]'\n",
      "WARNING:root:No module named 'fairlearn': GridSearchReduction will be unavailable. To install, run:\n",
      "pip install 'aif360[Reductions]'\n",
      "WARNING:root:No module named 'fairlearn': GridSearchReduction will be unavailable. To install, run:\n",
      "pip install 'aif360[Reductions]'\n"
     ]
    }
   ],
   "source": [
    "import os\n",
    "from src import *\n",
    "from src.data_classes.adult_data import *\n",
    "from src.data_classes.compas_data import *\n",
    "from typing import List, Dict\n",
    "import matplotlib.pyplot as plt\n",
    "import numpy as np\n",
    "import matplotlib.cm as cm"
   ]
  },
  {
   "cell_type": "code",
   "execution_count": 2,
   "metadata": {},
   "outputs": [
    {
     "name": "stdout",
     "output_type": "stream",
     "text": [
      "Number of rows: 7185\n",
      "Number of columns: 10\n"
     ]
    }
   ],
   "source": [
    "data = CompasData()._X\n",
    "\n",
    "num_rows, num_columns = data.shape\n",
    "\n",
    "print(\"Number of rows:\", num_rows)\n",
    "print(\"Number of columns:\", num_columns)"
   ]
  },
  {
   "cell_type": "code",
   "execution_count": 15,
   "metadata": {},
   "outputs": [
    {
     "name": "stdout",
     "output_type": "stream",
     "text": [
      "Intersection Counts:\n",
      "   sex  race  Probability  count          %\n",
      "0    0     0            0    295   4.105776\n",
      "1    0     0            1    528   7.348643\n",
      "2    0     1            0    198   2.755741\n",
      "3    0     1            1    366   5.093946\n",
      "4    1     0            0   1979  27.543493\n",
      "5    1     0            1   1938  26.972860\n",
      "6    1     1            0    763  10.619346\n",
      "7    1     1            1   1118  15.560195\n"
     ]
    }
   ],
   "source": [
    "\n",
    "intersection_counts = CompasData().dataset_orig.groupby(['sex', 'race', 'Probability']).size().reset_index(name='count')\n",
    "\n",
    "intersection_counts['%'] = intersection_counts['count']/num_rows *100\n",
    "\n",
    "# Display the result\n",
    "print(\"Intersection Counts:\")\n",
    "print(intersection_counts)\n",
    "\n"
   ]
  },
  {
   "cell_type": "code",
   "execution_count": 8,
   "metadata": {},
   "outputs": [],
   "source": [
    "data = CompasData()._raw\n",
    "\n",
    "# description of the dataset\n",
    "#https://www.cs.toronto.edu/~delve/data/adult/adultDetail.html\n",
    "\n",
    "#https://www.kaggle.com/datasets/uciml/adult-census-income "
   ]
  },
  {
   "cell_type": "code",
   "execution_count": 9,
   "metadata": {},
   "outputs": [
    {
     "name": "stdout",
     "output_type": "stream",
     "text": [
      "Intersection Counts:\n",
      "       sex              race  two_year_recid  count\n",
      "0   Female  African-American               0    405\n",
      "1   Female  African-American               1    247\n",
      "2   Female             Asian               0      1\n",
      "3   Female             Asian               1      1\n",
      "4   Female         Caucasian               0    368\n",
      "5   Female         Caucasian               1    199\n",
      "6   Female          Hispanic               0     70\n",
      "7   Female          Hispanic               1     33\n",
      "8   Female   Native American               0      1\n",
      "9   Female   Native American               1      3\n",
      "10  Female             Other               0     52\n",
      "11  Female             Other               1     15\n",
      "12    Male  African-American               0   1390\n",
      "13    Male  African-American               1   1654\n",
      "14    Male             Asian               0     22\n",
      "15    Male             Asian               1      8\n",
      "16    Male         Caucasian               0   1120\n",
      "17    Male         Caucasian               1    767\n",
      "18    Male          Hispanic               0    335\n",
      "19    Male          Hispanic               1    199\n",
      "20    Male   Native American               0      7\n",
      "21    Male   Native American               1      7\n",
      "22    Male             Other               0    192\n",
      "23    Male             Other               1    118\n"
     ]
    }
   ],
   "source": []
  },
  {
   "cell_type": "code",
   "execution_count": 3,
   "metadata": {},
   "outputs": [
    {
     "name": "stdout",
     "output_type": "stream",
     "text": [
      "Intersection Counts:\n",
      "v_decile_score    1    2    3    4    5   6   7   8    9   10\n",
      "decile_score                                                 \n",
      "1               1260  173    7    0    0   0   0   0    0   0\n",
      "2                328  317  211   67   15   3   0   0    0   0\n",
      "3                136  191  169  130   80  38   3   0    0   0\n",
      "4                 85  132  176  131  113  91  38   2    1   0\n",
      "5                 42  106  131  143  111  77  52  14    5   0\n",
      "6                 36   74  106  118  110  87  64  34   12   0\n",
      "7                 14   46   86   98  100  97  76  49   24   2\n",
      "8                  6   24   50   62   78  88  84  65   45  10\n",
      "9                  4    8   36   40   51  78  88  80   95  28\n",
      "10                 0    2    7    9   31  39  47  56  108  84\n"
     ]
    }
   ],
   "source": [
    "intersection_counts = pd.crosstab(data['decile_score'], data['v_decile_score'])\n",
    "\n",
    "# Display the result\n",
    "print(\"Intersection Counts:\")\n",
    "print(intersection_counts)\n"
   ]
  },
  {
   "cell_type": "code",
   "execution_count": 4,
   "metadata": {},
   "outputs": [
    {
     "name": "stdout",
     "output_type": "stream",
     "text": [
      "Intersection Counts:\n",
      "two_year_recid      0     1\n",
      "c_charge_degree            \n",
      "F                2384  2282\n",
      "M                1579   969\n",
      "Ratio between counts of 'Y' and 'X' for each category in 'Category1':\n",
      "c_charge_degree\n",
      "F    1.044698\n",
      "M    1.629515\n",
      "dtype: float64\n"
     ]
    }
   ],
   "source": [
    "\n",
    "intersection_counts = pd.crosstab(data['c_charge_degree'], data['two_year_recid'])\n",
    "\n",
    "# Display the result\n",
    "print(\"Intersection Counts:\")\n",
    "print(intersection_counts)\n",
    "\n",
    "ratio_y_to_x = intersection_counts[0] / intersection_counts[1]\n",
    "\n",
    "# Display the result\n",
    "print(\"Ratio between counts of 'Y' and 'X' for each category in 'Category1':\")\n",
    "print(ratio_y_to_x)\n"
   ]
  },
  {
   "cell_type": "code",
   "execution_count": 7,
   "metadata": {},
   "outputs": [
    {
     "name": "stdout",
     "output_type": "stream",
     "text": [
      "Intersection Counts:\n",
      "two_year_recid     0     1\n",
      "sex                       \n",
      "Female           897   498\n",
      "Male            3066  2753\n",
      "Ratio between counts of 'Y' and 'X' for each category in 'Category1':\n",
      "sex\n",
      "Female    1.801205\n",
      "Male      1.113694\n",
      "dtype: float64\n"
     ]
    }
   ],
   "source": [
    "\n",
    "intersection_counts = pd.crosstab(data['sex'], data['two_year_recid'])\n",
    "\n",
    "# Display the result\n",
    "print(\"Intersection Counts:\")\n",
    "print(intersection_counts)\n",
    "\n",
    "ratio_y_to_x = intersection_counts[0] / intersection_counts[1]\n",
    "\n",
    "# Display the result\n",
    "print(\"Ratio between counts of 'Y' and 'X' for each category in 'Category1':\")\n",
    "print(ratio_y_to_x)\n"
   ]
  },
  {
   "cell_type": "code",
   "execution_count": null,
   "metadata": {},
   "outputs": [],
   "source": []
  }
 ],
 "metadata": {
  "kernelspec": {
   "display_name": "Python 3",
   "language": "python",
   "name": "python3"
  },
  "language_info": {
   "codemirror_mode": {
    "name": "ipython",
    "version": 3
   },
   "file_extension": ".py",
   "mimetype": "text/x-python",
   "name": "python",
   "nbconvert_exporter": "python",
   "pygments_lexer": "ipython3",
   "version": "3.9.13"
  }
 },
 "nbformat": 4,
 "nbformat_minor": 2
}
