{
 "cells": [
  {
   "cell_type": "code",
   "execution_count": 2,
   "metadata": {},
   "outputs": [
    {
     "name": "stderr",
     "output_type": "stream",
     "text": [
      "WARNING:root:No module named 'tempeh': LawSchoolGPADataset will be unavailable. To install, run:\n",
      "pip install 'aif360[LawSchoolGPA]'\n",
      "WARNING:root:No module named 'fairlearn': ExponentiatedGradientReduction will be unavailable. To install, run:\n",
      "pip install 'aif360[Reductions]'\n",
      "WARNING:root:No module named 'fairlearn': GridSearchReduction will be unavailable. To install, run:\n",
      "pip install 'aif360[Reductions]'\n",
      "WARNING:root:No module named 'fairlearn': GridSearchReduction will be unavailable. To install, run:\n",
      "pip install 'aif360[Reductions]'\n"
     ]
    }
   ],
   "source": [
    "import os\n",
    "from src import *\n",
    "from src.data_classes.adult_data import *\n",
    "from src.data_classes.compas_data import *\n",
    "from typing import List, Dict\n",
    "import matplotlib.pyplot as plt\n",
    "import numpy as np\n",
    "import matplotlib.cm as cm"
   ]
  },
  {
   "cell_type": "code",
   "execution_count": 18,
   "metadata": {},
   "outputs": [
    {
     "name": "stdout",
     "output_type": "stream",
     "text": [
      "0.20121351405387222\n",
      "0.154135752783186\n",
      "0.2712486231184272\n",
      "0.018300323152550958\n",
      "0.019463536740745267\n",
      "0.029978561421503198\n"
     ]
    }
   ],
   "source": [
    "data = CompasData()\n",
    "m = Metrics(data._X, data._y, data._y, lambda _:data._y)\n",
    "print(m.df(['sex']))\n",
    "print(m.df(['race']))\n",
    "print(m.df(['sex','race']))\n",
    "print(m.sf(['sex']))\n",
    "print(m.sf(['race']))\n",
    "print(m.sf(['sex','race']))"
   ]
  },
  {
   "cell_type": "code",
   "execution_count": 3,
   "metadata": {},
   "outputs": [
    {
     "name": "stdout",
     "output_type": "stream",
     "text": [
      "Index(['id', 'name', 'first', 'last', 'compas_screening_date', 'sex', 'dob',\n",
      "       'age', 'age_cat', 'race', 'juv_fel_count', 'decile_score',\n",
      "       'juv_misd_count', 'juv_other_count', 'priors_count',\n",
      "       'days_b_screening_arrest', 'c_jail_in', 'c_jail_out', 'c_case_number',\n",
      "       'c_offense_date', 'c_arrest_date', 'c_days_from_compas',\n",
      "       'c_charge_degree', 'c_charge_desc', 'is_recid', 'r_case_number',\n",
      "       'r_charge_degree', 'r_days_from_arrest', 'r_offense_date',\n",
      "       'r_charge_desc', 'r_jail_in', 'r_jail_out', 'violent_recid',\n",
      "       'is_violent_recid', 'vr_case_number', 'vr_charge_degree',\n",
      "       'vr_offense_date', 'vr_charge_desc', 'type_of_assessment',\n",
      "       'decile_score.1', 'score_text', 'screening_date',\n",
      "       'v_type_of_assessment', 'v_decile_score', 'v_score_text',\n",
      "       'v_screening_date', 'in_custody', 'out_custody', 'priors_count.1',\n",
      "       'start', 'end', 'event', 'two_year_recid'],\n",
      "      dtype='object')\n",
      "id                         7214\n",
      "name                       7158\n",
      "first                      2800\n",
      "last                       3950\n",
      "compas_screening_date       690\n",
      "sex                           2\n",
      "dob                        5452\n",
      "age                          65\n",
      "age_cat                       3\n",
      "race                          6\n",
      "juv_fel_count                11\n",
      "decile_score                 10\n",
      "juv_misd_count               10\n",
      "juv_other_count              10\n",
      "priors_count                 37\n",
      "days_b_screening_arrest     423\n",
      "c_jail_in                  6907\n",
      "c_jail_out                 6880\n",
      "c_case_number              7192\n",
      "c_offense_date              927\n",
      "c_arrest_date               580\n",
      "c_days_from_compas          499\n",
      "c_charge_degree               2\n",
      "c_charge_desc               437\n",
      "is_recid                      2\n",
      "r_case_number              3471\n",
      "r_charge_degree              10\n",
      "r_days_from_arrest          201\n",
      "r_offense_date             1075\n",
      "r_charge_desc               340\n",
      "r_jail_in                   972\n",
      "r_jail_out                  938\n",
      "violent_recid                 0\n",
      "is_violent_recid              2\n",
      "vr_case_number              819\n",
      "vr_charge_degree              9\n",
      "vr_offense_date             570\n",
      "vr_charge_desc               83\n",
      "type_of_assessment            1\n",
      "decile_score.1               10\n",
      "score_text                    3\n",
      "screening_date              690\n",
      "v_type_of_assessment          1\n",
      "v_decile_score               10\n",
      "v_score_text                  3\n",
      "v_screening_date            690\n",
      "in_custody                 1156\n",
      "out_custody                1169\n",
      "priors_count.1               37\n",
      "start                       237\n",
      "end                        1115\n",
      "event                         2\n",
      "two_year_recid                2\n",
      "dtype: int64\n"
     ]
    }
   ],
   "source": [
    "raw_data = CompasData()._raw\n",
    "print(raw_data.columns)\n",
    "\n",
    "\n",
    "unique_values_count = raw_data.nunique()\n",
    "\n",
    "# Display the result\n",
    "print(unique_values_count)"
   ]
  },
  {
   "cell_type": "code",
   "execution_count": 5,
   "metadata": {},
   "outputs": [
    {
     "name": "stdout",
     "output_type": "stream",
     "text": [
      "Number of rows: 7185\n",
      "Number of columns: 10\n"
     ]
    }
   ],
   "source": [
    "data = CompasData()._X\n",
    "\n",
    "num_rows, num_columns = data.shape\n",
    "\n",
    "print(\"Number of rows:\", num_rows)\n",
    "print(\"Number of columns:\", num_columns)"
   ]
  },
  {
   "cell_type": "code",
   "execution_count": null,
   "metadata": {},
   "outputs": [],
   "source": []
  },
  {
   "cell_type": "code",
   "execution_count": 6,
   "metadata": {},
   "outputs": [
    {
     "name": "stdout",
     "output_type": "stream",
     "text": [
      "age                65\n",
      "juv_fel_count      11\n",
      "juv_misd_count     10\n",
      "juv_other_count    10\n",
      "priors_count       37\n",
      "decile_score.1     10\n",
      "v_decile_score     10\n",
      "sex                 2\n",
      "race                2\n",
      "c_charge_degree     2\n",
      "dtype: int64\n"
     ]
    }
   ],
   "source": [
    "unique_values_count = data.nunique()\n",
    "\n",
    "# Display the result\n",
    "print(unique_values_count)"
   ]
  },
  {
   "cell_type": "code",
   "execution_count": 15,
   "metadata": {},
   "outputs": [
    {
     "name": "stdout",
     "output_type": "stream",
     "text": [
      "Intersection Counts:\n",
      "   sex  race  Probability  count          %\n",
      "0    0     0            0    295   4.105776\n",
      "1    0     0            1    528   7.348643\n",
      "2    0     1            0    198   2.755741\n",
      "3    0     1            1    366   5.093946\n",
      "4    1     0            0   1979  27.543493\n",
      "5    1     0            1   1938  26.972860\n",
      "6    1     1            0    763  10.619346\n",
      "7    1     1            1   1118  15.560195\n"
     ]
    }
   ],
   "source": [
    "\n",
    "intersection_counts = CompasData().dataset_orig.groupby(['sex', 'race', 'Probability']).size().reset_index(name='count')\n",
    "\n",
    "intersection_counts['%'] = intersection_counts['count']/num_rows *100\n",
    "\n",
    "# Display the result\n",
    "print(\"Intersection Counts:\")\n",
    "print(intersection_counts)\n",
    "\n"
   ]
  },
  {
   "cell_type": "code",
   "execution_count": 8,
   "metadata": {},
   "outputs": [],
   "source": [
    "data = CompasData()._raw\n"
   ]
  },
  {
   "cell_type": "code",
   "execution_count": 3,
   "metadata": {},
   "outputs": [
    {
     "name": "stdout",
     "output_type": "stream",
     "text": [
      "Intersection Counts:\n",
      "v_decile_score    1    2    3    4    5   6   7   8    9   10\n",
      "decile_score                                                 \n",
      "1               1260  173    7    0    0   0   0   0    0   0\n",
      "2                328  317  211   67   15   3   0   0    0   0\n",
      "3                136  191  169  130   80  38   3   0    0   0\n",
      "4                 85  132  176  131  113  91  38   2    1   0\n",
      "5                 42  106  131  143  111  77  52  14    5   0\n",
      "6                 36   74  106  118  110  87  64  34   12   0\n",
      "7                 14   46   86   98  100  97  76  49   24   2\n",
      "8                  6   24   50   62   78  88  84  65   45  10\n",
      "9                  4    8   36   40   51  78  88  80   95  28\n",
      "10                 0    2    7    9   31  39  47  56  108  84\n"
     ]
    }
   ],
   "source": [
    "intersection_counts = pd.crosstab(data['decile_score'], data['v_decile_score'])\n",
    "\n",
    "# Display the result\n",
    "print(\"Intersection Counts:\")\n",
    "print(intersection_counts)\n"
   ]
  },
  {
   "cell_type": "code",
   "execution_count": 4,
   "metadata": {},
   "outputs": [
    {
     "name": "stdout",
     "output_type": "stream",
     "text": [
      "Intersection Counts:\n",
      "two_year_recid      0     1\n",
      "c_charge_degree            \n",
      "F                2384  2282\n",
      "M                1579   969\n",
      "Ratio between counts of 'Y' and 'X' for each category in 'Category1':\n",
      "c_charge_degree\n",
      "F    1.044698\n",
      "M    1.629515\n",
      "dtype: float64\n"
     ]
    }
   ],
   "source": [
    "\n",
    "intersection_counts = pd.crosstab(data['c_charge_degree'], data['two_year_recid'])\n",
    "\n",
    "# Display the result\n",
    "print(\"Intersection Counts:\")\n",
    "print(intersection_counts)\n",
    "\n",
    "ratio_y_to_x = intersection_counts[0] / intersection_counts[1]\n",
    "\n",
    "# Display the result\n",
    "print(\"Ratio between counts of 'Y' and 'X' for each category in 'Category1':\")\n",
    "print(ratio_y_to_x)\n"
   ]
  },
  {
   "cell_type": "code",
   "execution_count": 7,
   "metadata": {},
   "outputs": [
    {
     "name": "stdout",
     "output_type": "stream",
     "text": [
      "Intersection Counts:\n",
      "two_year_recid     0     1\n",
      "sex                       \n",
      "Female           897   498\n",
      "Male            3066  2753\n",
      "Ratio between counts of 'Y' and 'X' for each category in 'Category1':\n",
      "sex\n",
      "Female    1.801205\n",
      "Male      1.113694\n",
      "dtype: float64\n"
     ]
    }
   ],
   "source": [
    "\n",
    "intersection_counts = pd.crosstab(data['sex'], data['two_year_recid'])\n",
    "\n",
    "# Display the result\n",
    "print(\"Intersection Counts:\")\n",
    "print(intersection_counts)\n",
    "\n",
    "ratio_y_to_x = intersection_counts[0] / intersection_counts[1]\n",
    "\n",
    "# Display the result\n",
    "print(\"Ratio between counts of 'Y' and 'X' for each category in 'Category1':\")\n",
    "print(ratio_y_to_x)\n"
   ]
  },
  {
   "cell_type": "code",
   "execution_count": null,
   "metadata": {},
   "outputs": [],
   "source": []
  }
 ],
 "metadata": {
  "kernelspec": {
   "display_name": "Python 3",
   "language": "python",
   "name": "python3"
  },
  "language_info": {
   "codemirror_mode": {
    "name": "ipython",
    "version": 3
   },
   "file_extension": ".py",
   "mimetype": "text/x-python",
   "name": "python",
   "nbconvert_exporter": "python",
   "pygments_lexer": "ipython3",
   "version": "3.9.13"
  }
 },
 "nbformat": 4,
 "nbformat_minor": 2
}
