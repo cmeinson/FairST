{
 "cells": [
  {
   "cell_type": "code",
   "execution_count": 5,
   "metadata": {},
   "outputs": [],
   "source": [
    "import os\n",
    "import pandas as pd\n",
    "import matplotlib.pyplot as plt\n",
    "from matplotlib.cm import get_cmap\n",
    "\n",
    "from experiment_utils import *\n",
    "from src import *\n"
   ]
  },
  {
   "cell_type": "markdown",
   "metadata": {},
   "source": [
    "# SAVE TO RESULTS FILE"
   ]
  },
  {
   "cell_type": "code",
   "execution_count": 6,
   "metadata": {},
   "outputs": [],
   "source": [
    "FOLDER = \"RQ4_CONSISTENCY\"\n",
    "\n",
    "if not os.path.exists(FOLDER):\n",
    "    os.makedirs(FOLDER)"
   ]
  },
  {
   "cell_type": "code",
   "execution_count": 7,
   "metadata": {},
   "outputs": [],
   "source": [
    "def f(df, reader): # Keep only K and KP\n",
    "    df = df[(df[\"ML method\"].str.contains('nn'))]\n",
    "    df['TEMP'] = df['other'].apply(reader._get_losses_used)\n",
    "    df = df[(~df[\"bias mitigation\"].str.contains('FYP VAE')) | df[\"TEMP\"].str.contains('Sensitive KL loss') ]\n",
    "    df = df[~(df[\"TEMP\"].str.contains(\"Flipped\"))]\n",
    "    df = df[~(df[\"TEMP\"].str.contains(\"Latent\"))]\n",
    "    return df.drop(columns=['TEMP'])"
   ]
  },
  {
   "cell_type": "markdown",
   "metadata": {},
   "source": [
    "### Per metric count of instances metric was increased from baseline"
   ]
  },
  {
   "cell_type": "code",
   "execution_count": 8,
   "metadata": {},
   "outputs": [
    {
     "name": "stdout",
     "output_type": "stream",
     "text": [
      "File 'results\\RESULTS_sex.csv' successfully loaded as DataFrame.\n",
      "File 'results\\RESULTS_race.csv' successfully loaded as DataFrame.\n",
      "File 'results\\RESULTS_race_sex.csv' successfully loaded as DataFrame.\n"
     ]
    }
   ],
   "source": [
    "for attr in [[\"sex\"],[\"race\"],[\"race\", \"sex\"]]:\n",
    "    files = [os.path.join(\"results\",\"RESULTS_\"+'_'.join(attr)+\".csv\")]\n",
    "    reader = ResultsReader(files)\n",
    "    reader.change_other_to_losses()\n",
    "\n",
    "    rel_df = reader.get_relative_metrics()\n",
    "\n",
    "    #metrics_to_use = [\"f1\", \"MCC\", \"A_\", \"DI_FM\", \"SPD\", \"SF\", \"DF\"]\n",
    "    #metrics_to_display = [m for m in reader.metrics if metric_has_substring(m,metrics_to_use )]\n",
    "    metrics_to_display = reader.metrics\n",
    "    \n",
    "    for data in [\"Adult\", \"Compas\", \"Default\"]:           \n",
    "        df = f(rel_df[(rel_df[\"data\"].str.contains(data))], reader)\n",
    "        \n",
    "        if df.shape[0] > 0: # in case some dataset has no results for some metrics\n",
    "            counts_total = df[(df[\"bias mitigation\"].str.contains('No'))].groupby([\"bias mitigation\", \"other\"]).count()[metrics_to_display]\n",
    "            \n",
    "            result = df.groupby([\"bias mitigation\", \"other\"])[metrics_to_display].apply(lambda x: (x >= 0).sum()).reset_index()\n",
    "            results = pd.concat([result, counts_total])\n",
    "            \n",
    "            results.to_csv(os.path.join(FOLDER ,'PER_METRIC_nr_incr_'+data+'_'+\"_\".join(attr)+'.csv'), index=False)"
   ]
  },
  {
   "cell_type": "code",
   "execution_count": null,
   "metadata": {},
   "outputs": [],
   "source": []
  },
  {
   "cell_type": "code",
   "execution_count": null,
   "metadata": {},
   "outputs": [],
   "source": []
  },
  {
   "cell_type": "code",
   "execution_count": null,
   "metadata": {},
   "outputs": [],
   "source": []
  }
 ],
 "metadata": {
  "kernelspec": {
   "display_name": "Python 3",
   "language": "python",
   "name": "python3"
  },
  "language_info": {
   "codemirror_mode": {
    "name": "ipython",
    "version": 3
   },
   "file_extension": ".py",
   "mimetype": "text/x-python",
   "name": "python",
   "nbconvert_exporter": "python",
   "pygments_lexer": "ipython3",
   "version": "3.9.13"
  }
 },
 "nbformat": 4,
 "nbformat_minor": 2
}
