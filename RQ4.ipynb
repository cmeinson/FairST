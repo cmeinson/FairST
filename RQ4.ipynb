{
 "cells": [
  {
   "cell_type": "code",
   "execution_count": 13,
   "metadata": {},
   "outputs": [],
   "source": [
    "import os\n",
    "import pandas as pd\n",
    "import matplotlib.pyplot as plt\n",
    "from matplotlib.cm import get_cmap\n",
    "\n",
    "from experiment_utils import *\n",
    "from src import *\n"
   ]
  },
  {
   "cell_type": "markdown",
   "metadata": {},
   "source": [
    "# SAVE TO RESULTS FILE"
   ]
  },
  {
   "cell_type": "code",
   "execution_count": 14,
   "metadata": {},
   "outputs": [],
   "source": [
    "FOLDER = \"RQ4_CONSISTENCY\"\n",
    "\n",
    "if not os.path.exists(FOLDER):\n",
    "    os.makedirs(FOLDER)"
   ]
  },
  {
   "cell_type": "code",
   "execution_count": 15,
   "metadata": {},
   "outputs": [
    {
     "data": {
      "text/plain": [
       "'\\nFor all baselines and my relavant losses count of times the metric has been equal or higher than the baseline model\\n# TODO: WHAT IF INSTEAD I CHECK SIGNIFICANTLY LESS AND SIGNIFICANTLY MORE??????\\n'"
      ]
     },
     "execution_count": 15,
     "metadata": {},
     "output_type": "execute_result"
    }
   ],
   "source": [
    "\"\"\"\n",
    "For all baselines and my relavant losses count of times the metric has been equal or higher than the baseline model\n",
    "# TODO: WHAT IF INSTEAD I CHECK SIGNIFICANTLY LESS AND SIGNIFICANTLY MORE??????\n",
    "\"\"\""
   ]
  },
  {
   "cell_type": "code",
   "execution_count": 16,
   "metadata": {},
   "outputs": [
    {
     "name": "stdout",
     "output_type": "stream",
     "text": [
      "File 'results\\RESULTS_sex.csv' successfully loaded as DataFrame.\n",
      "Adult  count  240\n",
      "Compas  count  240\n",
      "File 'results\\RESULTS_race.csv' successfully loaded as DataFrame.\n",
      "Adult  count  240\n",
      "Compas  count  240\n",
      "File 'results\\RESULTS_race_sex.csv' successfully loaded as DataFrame.\n",
      "Adult  count  1\n",
      "Compas  count  240\n"
     ]
    }
   ],
   "source": [
    "for attr in [[\"sex\"],[\"race\"],[\"race\", \"sex\"]]:\n",
    "#for attr in [[\"race\", \"sex\"]]:\n",
    "    files = [os.path.join(\"results\",\"RESULTS_\"+'_'.join(attr)+\".csv\")]\n",
    "    reader = ResultsReader(files)\n",
    "    reader.change_other_to_losses()\n",
    "\n",
    "    rel_df = reader.get_relative_metrics()\n",
    "\n",
    "    metrics_to_use = [\"f1\", \"MCC\", \"A_\", \"DI_FM\", \"SPD\", \"SF\", \"DF\"]\n",
    "    metrics_to_display = [m for m in reader.metrics if metric_has_substring(m,metrics_to_use )]\n",
    "    \n",
    "    for data in [\"Adult\", \"Compas\"]:        \n",
    "        df = rel_df[(rel_df[\"data\"].str.contains(data))]\n",
    "        df = df[(~df[\"bias mitigation\"].str.contains('FYP VAE')) | df[\"other\"].str.contains('Sensitive KL loss') & ~df[\"other\"].str.contains('Flipped') ]\n",
    "        \n",
    "        if df.shape[0] > 0: # in case some dataset has no results for some metrics\n",
    "            counts_total = df[(df[\"bias mitigation\"].str.contains('No'))].groupby([\"bias mitigation\", \"other\"]).count()[metrics_to_display]\n",
    "            c = counts_total[\"MCC\"].iloc[0]\n",
    "            print(data,\" count \", c)\n",
    "            result = df.groupby([\"bias mitigation\", \"other\"])[metrics_to_display].apply(lambda x: (x >= 0).sum()).reset_index()\n",
    "            results = pd.concat([result, counts_total])\n",
    "            \n",
    "            results.to_csv(os.path.join(FOLDER ,'PER_METRIC_nr_incr_'+data+'_'+\"_\".join(attr)+'.csv'), index=False)"
   ]
  },
  {
   "cell_type": "code",
   "execution_count": 17,
   "metadata": {},
   "outputs": [
    {
     "data": {
      "text/plain": [
       "'\\nFor all baselines and my relavant losses count of times SF has been equal or higher than the baseline model, separately for each of the 6 ml models used\\n'"
      ]
     },
     "execution_count": 17,
     "metadata": {},
     "output_type": "execute_result"
    }
   ],
   "source": [
    "\"\"\"\n",
    "For all baselines and my relavant losses count of times SF has been equal or higher than the baseline model, separately for each of the 6 ml models used\n",
    "\"\"\""
   ]
  },
  {
   "cell_type": "code",
   "execution_count": 18,
   "metadata": {},
   "outputs": [
    {
     "name": "stdout",
     "output_type": "stream",
     "text": [
      "File 'results\\RESULTS_sex.csv' successfully loaded as DataFrame.\n"
     ]
    }
   ],
   "source": [
    "# per diff ml model calc the nr of times  for a given metric\n",
    "\n",
    "for attr in [[\"sex\"],[\"race\"],[\"race\", \"sex\"]]:\n",
    "    files = [os.path.join(\"results\",\"RESULTS_\"+'_'.join(attr)+\".csv\")]\n",
    "    reader = ResultsReader(files)\n",
    "    reader.change_other_to_losses()\n",
    "\n",
    "    rel_df = reader.get_relative_metrics()\n",
    "\n",
    "    metrics_to_use = [\"SF\"]\n",
    "    metrics_to_display = [m for m in reader.metrics if metric_has_substring(m,metrics_to_use )]\n",
    "            \n",
    "    for data in [\"Adult\", \"Compas\"]:\n",
    "        df = rel_df[(rel_df[\"data\"].str.contains(data))]\n",
    "        df = df[(~df[\"bias mitigation\"].str.contains('FYP VAE')) | df[\"other\"].str.contains('Sensitive KL loss') & ~df[\"other\"].str.contains('Flipped') ]\n",
    "        \n",
    "        if df.shape[0] > 0: # in case some dataset has no results for some metrics\n",
    "            counts_total = df[(df[\"bias mitigation\"].str.contains('No'))].groupby([\"bias mitigation\", \"other\"]).count()[metrics_to_display]\n",
    "            result = df.groupby([\"bias mitigation\", \"other\", \"ML method\"])[metrics_to_display].apply(lambda x: (x >= 0).sum()).reset_index()\n",
    "            results = pd.concat([result, counts_total])\n",
    "            \n",
    "            pivot_df = results.pivot_table(index=[\"bias mitigation\", \"other\"], columns='ML method', values=metrics_to_display[0], aggfunc='sum', fill_value=0)            \n",
    "            pivot_df.to_csv(os.path.join(FOLDER,'PER_MODEL_nr_incr_'+data+'_'+\"_\".join(attr)+'.csv'), index=True,  index_label=[\"bias mitigation\", \"other\"])"
   ]
  },
  {
   "cell_type": "code",
   "execution_count": null,
   "metadata": {},
   "outputs": [],
   "source": []
  },
  {
   "cell_type": "code",
   "execution_count": null,
   "metadata": {},
   "outputs": [],
   "source": []
  }
 ],
 "metadata": {
  "kernelspec": {
   "display_name": "Python 3",
   "language": "python",
   "name": "python3"
  },
  "language_info": {
   "codemirror_mode": {
    "name": "ipython",
    "version": 3
   },
   "file_extension": ".py",
   "mimetype": "text/x-python",
   "name": "python",
   "nbconvert_exporter": "python",
   "pygments_lexer": "ipython3",
   "version": "3.9.13"
  }
 },
 "nbformat": 4,
 "nbformat_minor": 2
}
