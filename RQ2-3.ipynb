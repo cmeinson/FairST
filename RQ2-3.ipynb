{
 "cells": [
  {
   "cell_type": "code",
   "execution_count": 11,
   "metadata": {},
   "outputs": [
    {
     "data": {
      "text/plain": [
       "'\\nRQ2: how is the bias mitigation????\\n\\nlol literally outperforms everything in all metrics with some small exceptions\\noutperforms everything for every example for aspd, spd, di, sf\\n\\n\\nFor Adult sex:\\nhorrible predictive performance but 10x better bias than the best debias...... actually not a usable example\\nFor Adult race:\\nNOTE: for some models the performance loss seems better than others!!!\\n--- not as different in performance. still bad tho.\\n- bias much better  than all others for aspd, spd, di, sf\\n- FM and RW slightly better AEOD (sliiightly)\\n\\nadd a rq abt diff ml models and use:\\nnn, DT, RF, SVM, NB, LGR\\nmaybe find a reason to remote dt and just \\n\\nTODO: checkout results with just nn\\n'"
      ]
     },
     "execution_count": 11,
     "metadata": {},
     "output_type": "execute_result"
    }
   ],
   "source": [
    "\n",
    "\"\"\"\n",
    "RQ2: how is the bias mitigation????\n",
    "\n",
    "lol literally outperforms everything in all metrics with some small exceptions\n",
    "outperforms everything for every example for aspd, spd, di, sf\n",
    "\n",
    "\n",
    "For Adult sex:\n",
    "horrible predictive performance but 10x better bias than the best debias...... actually not a usable example\n",
    "For Adult race:\n",
    "NOTE: for some models the performance loss seems better than others!!!\n",
    "--- not as different in performance. still bad tho.\n",
    "- bias much better  than all others for aspd, spd, di, sf\n",
    "- FM and RW slightly better AEOD (sliiightly)\n",
    "\n",
    "add a rq abt diff ml models and use:\n",
    "nn, DT, RF, SVM, NB, LGR\n",
    "maybe find a reason to remote dt and just \n",
    "\n",
    "TODO: checkout results with just nn\n",
    "\"\"\""
   ]
  },
  {
   "cell_type": "code",
   "execution_count": 12,
   "metadata": {},
   "outputs": [],
   "source": [
    "import os\n",
    "import pandas as pd\n",
    "import matplotlib.pyplot as plt\n",
    "from matplotlib.cm import get_cmap\n",
    "\n",
    "from experiment_utils import *\n",
    "from src import *\n"
   ]
  },
  {
   "cell_type": "markdown",
   "metadata": {},
   "source": [
    "# SAVE TO RESULTS FILE"
   ]
  },
  {
   "cell_type": "code",
   "execution_count": 13,
   "metadata": {},
   "outputs": [],
   "source": [
    "model_names = [\n",
    "    [\"NN\",\"nn keras\"],\n",
    "    [\"DT\",\"DecisionTreeRegressor\"],\n",
    "    [\"RF\",\"RandomForestClassifier\"],\n",
    "    [\"NB\",\"NaiveBayes\"],\n",
    "    [\"SV\",\"SupportVectorClassifier\"],\n",
    "    [\"LR\",\"LogisticRegression\"],\n",
    "]"
   ]
  },
  {
   "cell_type": "code",
   "execution_count": 14,
   "metadata": {},
   "outputs": [],
   "source": [
    "FOLDER = \"RQ2_BIAS_MIT\"\n",
    "\n",
    "if not os.path.exists(FOLDER):\n",
    "    os.makedirs(FOLDER)"
   ]
  },
  {
   "cell_type": "code",
   "execution_count": 15,
   "metadata": {},
   "outputs": [
    {
     "name": "stdout",
     "output_type": "stream",
     "text": [
      "File 'results\\RESULTS_sex.csv' successfully loaded as DataFrame.\n",
      "File 'results\\RESULTS_race.csv' successfully loaded as DataFrame.\n"
     ]
    }
   ],
   "source": [
    "for attr in [[\"sex\"],[\"race\"]]:            \n",
    "    files = [os.path.join(\"results\",\"RESULTS_\"+'_'.join(attr)+\".csv\")]\n",
    "    reader = ResultsReader(files)\n",
    "        \n",
    "    df = reader.get_mean_metrics()\n",
    "    for model_short, model_long in model_names:\n",
    "        model_df = df[(df[reader.ML].str.contains(model_long))]\n",
    "        mean_df = model_df.groupby(reader.filterable).mean().reset_index()\n",
    "        mean_df.to_csv(os.path.join(FOLDER, model_short+\"_MEAN_\"+'_'.join(attr)+'.csv'), index=False)\n",
    "      \n",
    "    \"\"\"  \n",
    "    df = reader.get_filtered_df()    \n",
    "    for model_short, model_long in model_names:\n",
    "        model_df = df[(df[reader.ML].str.contains(model_long))]\n",
    "        mean_df = model_df.groupby(reader.filterable).std().reset_index()\n",
    "        mean_df.to_csv(os.path.join(FOLDER,model_short+\"_STD_\"+'_'.join(attr)+'.csv'), index=False)\n",
    "    \"\"\"\n",
    "\n"
   ]
  },
  {
   "cell_type": "code",
   "execution_count": 16,
   "metadata": {},
   "outputs": [],
   "source": [
    "FOLDER = \"RQ3_MULTIATTR\"\n",
    "\n",
    "if not os.path.exists(FOLDER):\n",
    "    os.makedirs(FOLDER)"
   ]
  },
  {
   "cell_type": "code",
   "execution_count": 17,
   "metadata": {},
   "outputs": [
    {
     "name": "stdout",
     "output_type": "stream",
     "text": [
      "File 'results\\RESULTS_race_sex.csv' successfully loaded as DataFrame.\n"
     ]
    }
   ],
   "source": [
    "for attr in [[\"race\", \"sex\"]]:            \n",
    "    files = [os.path.join(\"results\",\"RESULTS_\"+'_'.join(attr)+\".csv\")]\n",
    "    reader = ResultsReader(files)\n",
    "        \n",
    "    df = reader.get_mean_metrics()\n",
    "    for model_short, model_long in model_names:\n",
    "        model_df = df[(df[reader.ML].str.contains(model_long))]\n",
    "        mean_df = model_df.groupby(reader.filterable).mean().reset_index()\n",
    "        mean_df.to_csv(os.path.join(FOLDER, model_short+\"_MEAN_\"+'_'.join(attr)+'.csv'), index=False)"
   ]
  },
  {
   "cell_type": "code",
   "execution_count": 18,
   "metadata": {},
   "outputs": [],
   "source": [
    "# TODO: add maybe a version with just the subset of rows (e.g. only my best methods) and subsets of metrics that I like the most and keep the current ones as \"full version\"\n",
    "# also i think it would be fair to have a table for each ML model jst only present the 2nd one in the RQ (just mean should be enought tho)\n",
    "\n",
    "\n",
    "# NOTE: insteadd in sheets have some formulas that transform the full table into a subset!"
   ]
  }
 ],
 "metadata": {
  "kernelspec": {
   "display_name": "Python 3",
   "language": "python",
   "name": "python3"
  },
  "language_info": {
   "codemirror_mode": {
    "name": "ipython",
    "version": 3
   },
   "file_extension": ".py",
   "mimetype": "text/x-python",
   "name": "python",
   "nbconvert_exporter": "python",
   "pygments_lexer": "ipython3",
   "version": "3.9.13"
  }
 },
 "nbformat": 4,
 "nbformat_minor": 2
}
