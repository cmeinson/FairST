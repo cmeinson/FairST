{
 "cells": [
  {
   "cell_type": "code",
   "execution_count": 1,
   "metadata": {},
   "outputs": [],
   "source": [
    "import os\n",
    "from src import *\n",
    "from src.data_classes.adult_data import *\n",
    "from src.data_classes.compas_data import *\n",
    "from typing import List, Dict\n",
    "import matplotlib.pyplot as plt\n",
    "import numpy as np\n",
    "import matplotlib.cm as cm"
   ]
  },
  {
   "cell_type": "code",
   "execution_count": 2,
   "metadata": {},
   "outputs": [
    {
     "name": "stdout",
     "output_type": "stream",
     "text": [
      "         id                 name      first         last  \\\n",
      "0         1     miguel hernandez     miguel    hernandez   \n",
      "1         3          kevon dixon      kevon        dixon   \n",
      "2         4             ed philo         ed        philo   \n",
      "3         5          marcu brown      marcu        brown   \n",
      "4         6   bouthy pierrelouis     bouthy  pierrelouis   \n",
      "...     ...                  ...        ...          ...   \n",
      "7209  10996        steven butler     steven       butler   \n",
      "7210  10997      malcolm simmons    malcolm      simmons   \n",
      "7211  10999      winston gregory    winston      gregory   \n",
      "7212  11000          farrah jean     farrah         jean   \n",
      "7213  11001  florencia sanmartin  florencia    sanmartin   \n",
      "\n",
      "     compas_screening_date     sex         dob  age          age_cat  \\\n",
      "0               2013-08-14    Male  1947-04-18   69  Greater than 45   \n",
      "1               2013-01-27    Male  1982-01-22   34          25 - 45   \n",
      "2               2013-04-14    Male  1991-05-14   24     Less than 25   \n",
      "3               2013-01-13    Male  1993-01-21   23     Less than 25   \n",
      "4               2013-03-26    Male  1973-01-22   43          25 - 45   \n",
      "...                    ...     ...         ...  ...              ...   \n",
      "7209            2013-11-23    Male  1992-07-17   23     Less than 25   \n",
      "7210            2014-02-01    Male  1993-03-25   23     Less than 25   \n",
      "7211            2014-01-14    Male  1958-10-01   57  Greater than 45   \n",
      "7212            2014-03-09  Female  1982-11-17   33          25 - 45   \n",
      "7213            2014-06-30  Female  1992-12-18   23     Less than 25   \n",
      "\n",
      "                  race  ...  v_decile_score  v_score_text  v_screening_date  \\\n",
      "0                Other  ...               1           Low        2013-08-14   \n",
      "1     African-American  ...               1           Low        2013-01-27   \n",
      "2     African-American  ...               3           Low        2013-04-14   \n",
      "3     African-American  ...               6        Medium        2013-01-13   \n",
      "4                Other  ...               1           Low        2013-03-26   \n",
      "...                ...  ...             ...           ...               ...   \n",
      "7209  African-American  ...               5        Medium        2013-11-23   \n",
      "7210  African-American  ...               5        Medium        2014-02-01   \n",
      "7211             Other  ...               1           Low        2014-01-14   \n",
      "7212  African-American  ...               2           Low        2014-03-09   \n",
      "7213          Hispanic  ...               4           Low        2014-06-30   \n",
      "\n",
      "      in_custody  out_custody  priors_count.1 start   end event two_year_recid  \n",
      "0     2014-07-07   2014-07-14               0     0   327     0              0  \n",
      "1     2013-01-26   2013-02-05               0     9   159     1              1  \n",
      "2     2013-06-16   2013-06-16               4     0    63     0              1  \n",
      "3            NaN          NaN               1     0  1174     0              0  \n",
      "4            NaN          NaN               2     0  1102     0              0  \n",
      "...          ...          ...             ...   ...   ...   ...            ...  \n",
      "7209  2013-11-22   2013-11-24               0     1   860     0              0  \n",
      "7210  2014-01-31   2014-02-02               0     1   790     0              0  \n",
      "7211  2014-01-13   2014-01-14               0     0   808     0              0  \n",
      "7212  2014-03-08   2014-03-09               3     0   754     0              0  \n",
      "7213  2015-03-15   2015-03-15               2     0   258     0              1  \n",
      "\n",
      "[7214 rows x 53 columns]\n"
     ]
    }
   ],
   "source": [
    "data = CompasData()._raw\n",
    "print(data)\n",
    "\n",
    "# description of the dataset\n",
    "#https://www.cs.toronto.edu/~delve/data/adult/adultDetail.html\n",
    "\n",
    "#https://www.kaggle.com/datasets/uciml/adult-census-income "
   ]
  },
  {
   "cell_type": "code",
   "execution_count": 17,
   "metadata": {},
   "outputs": [
    {
     "name": "stdout",
     "output_type": "stream",
     "text": [
      "Intersection Counts:\n",
      "v_decile_score    1    2    3    4    5   6   7   8    9   10\n",
      "decile_score                                                 \n",
      "1               1260  173    7    0    0   0   0   0    0   0\n",
      "2                328  317  211   67   15   3   0   0    0   0\n",
      "3                136  191  169  130   80  38   3   0    0   0\n",
      "4                 85  132  176  131  113  91  38   2    1   0\n",
      "5                 42  106  131  143  111  77  52  14    5   0\n",
      "6                 36   74  106  118  110  87  64  34   12   0\n",
      "7                 14   46   86   98  100  97  76  49   24   2\n",
      "8                  6   24   50   62   78  88  84  65   45  10\n",
      "9                  4    8   36   40   51  78  88  80   95  28\n",
      "10                 0    2    7    9   31  39  47  56  108  84\n"
     ]
    }
   ],
   "source": [
    "intersection_counts = pd.crosstab(data['decile_score'], data['v_decile_score'])\n",
    "\n",
    "# Display the result\n",
    "print(\"Intersection Counts:\")\n",
    "print(intersection_counts)\n"
   ]
  },
  {
   "cell_type": "code",
   "execution_count": 26,
   "metadata": {},
   "outputs": [
    {
     "name": "stdout",
     "output_type": "stream",
     "text": [
      "Intersection Counts:\n",
      "two_year_recid      0     1\n",
      "c_charge_degree            \n",
      "F                2384  2282\n",
      "M                1579   969\n",
      "Ratio between counts of 'Y' and 'X' for each category in 'Category1':\n",
      "c_charge_degree\n",
      "F    1.044698\n",
      "M    1.629515\n",
      "dtype: float64\n"
     ]
    }
   ],
   "source": [
    "\n",
    "intersection_counts = pd.crosstab(data['c_charge_degree'], data['two_year_recid'])\n",
    "\n",
    "# Display the result\n",
    "print(\"Intersection Counts:\")\n",
    "print(intersection_counts)\n",
    "\n",
    "ratio_y_to_x = intersection_counts[0] / intersection_counts[1]\n",
    "\n",
    "# Display the result\n",
    "print(\"Ratio between counts of 'Y' and 'X' for each category in 'Category1':\")\n",
    "print(ratio_y_to_x)\n"
   ]
  },
  {
   "cell_type": "code",
   "execution_count": 16,
   "metadata": {},
   "outputs": [
    {
     "name": "stdout",
     "output_type": "stream",
     "text": [
      "Intersection Counts:\n",
      "v_decile_score    1    2    3    4    5   6   7   8    9   10\n",
      "decile_score                                                 \n",
      "1               1260  173    7    0    0   0   0   0    0   0\n",
      "2                328  317  211   67   15   3   0   0    0   0\n",
      "3                136  191  169  130   80  38   3   0    0   0\n",
      "4                 85  132  176  131  113  91  38   2    1   0\n",
      "5                 42  106  131  143  111  77  52  14    5   0\n",
      "6                 36   74  106  118  110  87  64  34   12   0\n",
      "7                 14   46   86   98  100  97  76  49   24   2\n",
      "8                  6   24   50   62   78  88  84  65   45  10\n",
      "9                  4    8   36   40   51  78  88  80   95  28\n",
      "10                 0    2    7    9   31  39  47  56  108  84\n"
     ]
    }
   ],
   "source": []
  },
  {
   "cell_type": "code",
   "execution_count": null,
   "metadata": {},
   "outputs": [],
   "source": []
  }
 ],
 "metadata": {
  "kernelspec": {
   "display_name": "Python 3",
   "language": "python",
   "name": "python3"
  },
  "language_info": {
   "codemirror_mode": {
    "name": "ipython",
    "version": 3
   },
   "file_extension": ".py",
   "mimetype": "text/x-python",
   "name": "python",
   "nbconvert_exporter": "python",
   "pygments_lexer": "ipython3",
   "version": "3.9.13"
  }
 },
 "nbformat": 4,
 "nbformat_minor": 2
}
