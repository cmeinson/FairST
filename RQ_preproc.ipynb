{
 "cells": [
  {
   "cell_type": "markdown",
   "metadata": {},
   "source": [
    "## OG FILES:\n",
    "output of the main...py files\n",
    "\n",
    "1. MAIN_all_2_sex.csv \n",
    "2. MAIN_all_2_race.csv\n",
    "3. MAIN_defualt_sex.csv\n",
    "4. MAIN_all_race_sex.csv\n",
    "5. MAIN_all_Adult_race_sex.csv\n",
    "\n",
    "#### MAIN_all_2_sex.csv & MAIN_all_2_race.csv\n",
    "- all single attr runs on Adult and Compas with EN, NN, LGR, RF, DT, SVM, NB\n",
    "- 4x10 run for each config\n",
    "\n",
    "#### MAIN_defualt_sex.csv\n",
    "- all single attr runs on Default with NN, LGR, RF, DT, SVM, NB\n",
    "- 4x10 run for each config\n",
    "\n",
    "#### MAIN_all_race_sex.csv\n",
    "- 4x10 runs on Compas for multiattr with EN, NN, LGR, RF, DT, SVM, NB\n",
    "- has incomplete runs for Adult but those mostly errored bc of the EN\n",
    "\n",
    "#### MAIN_all_Adult_race_sex.csv\n",
    "- 4x10 runs on Adult for multiattr with NN, LGR, RF, DT, SVM, NB\n",
    "\n",
    "\n",
    "## Processed FILES:\n",
    "1. RESULTS_race.csv\n",
    "2. RESULTS_sex.csv\n",
    "3. RESULTS_race_sex.csv\n",
    "\n",
    "Files with:\n",
    "- EN removed\n",
    "- no summation rows (rows that avg results over last 4 iterations)\n",
    "- TP, FP, TN, FN, MCC added\n",
    "- all multiattr runs merged into one\n",
    "- VAR columns removed\n",
    "- 40 runs of each config\n",
    "- if the initialinvalid representation oof DF is present -> change it to the correct one\n",
    "\n",
    "\n",
    "## \"no vae\" files:\n",
    "experiments with just the \"MASK\" (just ensamble predictions without any VAE subgroup translation) model vs base model.\n",
    "\n",
    "Output files: MAIN_only_NO_VAE_[sens attr].csv\n",
    "Processed files: RESULTS_with_no_vae_[sens attr].csv\n"
   ]
  },
  {
   "cell_type": "code",
   "execution_count": 16,
   "metadata": {},
   "outputs": [],
   "source": [
    "import os\n",
    "import pandas as pd\n",
    "import matplotlib.pyplot as plt\n",
    "from matplotlib.cm import get_cmap\n",
    "\n",
    "from experiment_utils import *\n",
    "from src import *\n"
   ]
  },
  {
   "cell_type": "code",
   "execution_count": 17,
   "metadata": {},
   "outputs": [
    {
     "name": "stdout",
     "output_type": "stream",
     "text": [
      "File 'results\\MAIN_all_2_sex.csv' successfully loaded as DataFrame.\n",
      "File 'results\\MAIN_defualt_sex.csv' successfully loaded as DataFrame.\n",
      "File 'results\\MAIN_all_2_race.csv' successfully loaded as DataFrame.\n",
      "Error: Unable to open 'results\\MAIN_defualt_race.csv' [Errno 2] No such file or directory: 'results\\\\MAIN_defualt_race.csv'\n"
     ]
    }
   ],
   "source": [
    "# proc single attr runs\n",
    "\n",
    "for attr in [[\"sex\"],[\"race\"]]:\n",
    "    filenames = [\"MAIN_all_2_\", \"MAIN_defualt_\"]\n",
    "    files = [ os.path.join(\"results\",name +\"_\".join(attr)+\".csv\") for name in filenames]\n",
    "    \n",
    "    reader = ResultsReader(files)\n",
    "    reader.df = reader.df[~(reader.df[\"ML method\"].str.contains('ElasticNet'))]\n",
    "    file_path = os.path.join(\"results\",\"RESULTS_\"+attr[0]+'.csv')\n",
    "    \n",
    "    reader.df.to_csv(file_path, index=False)"
   ]
  },
  {
   "cell_type": "code",
   "execution_count": 18,
   "metadata": {},
   "outputs": [
    {
     "name": "stdout",
     "output_type": "stream",
     "text": [
      "File 'results\\MAIN_all_2_sex.csv' successfully loaded as DataFrame.\n",
      "File 'results\\MAIN_defualt_sex.csv' successfully loaded as DataFrame.\n",
      "File 'results\\MAIN_only_NO_VAE_sex.csv' successfully loaded as DataFrame.\n",
      "File 'results\\MAIN_all_2_race.csv' successfully loaded as DataFrame.\n",
      "Error: Unable to open 'results\\MAIN_defualt_race.csv' [Errno 2] No such file or directory: 'results\\\\MAIN_defualt_race.csv'\n",
      "File 'results\\MAIN_only_NO_VAE_race.csv' successfully loaded as DataFrame.\n"
     ]
    }
   ],
   "source": [
    "# proc single attr runs\n",
    "\n",
    "for attr in [[\"sex\"],[\"race\"]]:\n",
    "    filenames = [\"MAIN_all_2_\", \"MAIN_defualt_\", \"MAIN_only_NO_VAE_\"]\n",
    "    files = [ os.path.join(\"results\",name +\"_\".join(attr)+\".csv\") for name in filenames]\n",
    "    \n",
    "    reader = ResultsReader(files)\n",
    "    reader.df = reader.df[~(reader.df[\"ML method\"].str.contains('ElasticNet'))]\n",
    "    file_path = os.path.join(\"results\",\"RESULTS_with_no_vae_\"+attr[0]+'.csv')\n",
    "    \n",
    "    reader.df.to_csv(file_path, index=False)"
   ]
  },
  {
   "cell_type": "code",
   "execution_count": 19,
   "metadata": {},
   "outputs": [
    {
     "name": "stdout",
     "output_type": "stream",
     "text": [
      "File 'results\\MAIN_all_race_sex.csv' successfully loaded as DataFrame.\n",
      "File 'results\\MAIN_all_Adult_race_sex.csv' successfully loaded as DataFrame.\n"
     ]
    }
   ],
   "source": [
    "# proc multi attr runs\n",
    "\n",
    "file_compas = os.path.join(\"results\", \"MAIN_all_race_sex.csv\")\n",
    "file_adult  = os.path.join(\"results\", \"MAIN_all_Adult_race_sex.csv\")\n",
    "\n",
    "\n",
    "reader_compas = ResultsReader(file_compas)\n",
    "reader_compas.df = reader_compas.df[~(reader_compas.df[\"data\"].str.contains('Adult'))]\n",
    "reader_compas.df = reader_compas.df[~(reader_compas.df[\"ML method\"].str.contains('ElasticNet'))]\n",
    "\n",
    "reader_adult = ResultsReader(file_adult)\n",
    "\n",
    "\n",
    "file_path = os.path.join(\"results\",\"RESULTS_race_sex.csv\")\n",
    "df = pd.concat([reader_adult.df, reader_compas.df])\n",
    "df.to_csv(file_path, index=False)"
   ]
  },
  {
   "cell_type": "code",
   "execution_count": 20,
   "metadata": {},
   "outputs": [
    {
     "name": "stdout",
     "output_type": "stream",
     "text": [
      "File 'results\\MAIN_all_race_sex.csv' successfully loaded as DataFrame.\n",
      "File 'results\\MAIN_all_Adult_race_sex.csv' successfully loaded as DataFrame.\n",
      "File 'results\\MAIN_only_NO_VAE_race_sex.csv' successfully loaded as DataFrame.\n"
     ]
    }
   ],
   "source": [
    "# proc multi attr runs\n",
    "\n",
    "file_compas = os.path.join(\"results\", \"MAIN_all_race_sex.csv\")\n",
    "file_adult  = os.path.join(\"results\", \"MAIN_all_Adult_race_sex.csv\")\n",
    "file_no_vae  = os.path.join(\"results\", \"MAIN_only_NO_VAE_race_sex.csv\")\n",
    "\n",
    "\n",
    "reader_compas = ResultsReader(file_compas)\n",
    "reader_compas.df = reader_compas.df[~(reader_compas.df[\"data\"].str.contains('Adult'))]\n",
    "reader_compas.df = reader_compas.df[~(reader_compas.df[\"ML method\"].str.contains('ElasticNet'))]\n",
    "\n",
    "reader_adult = ResultsReader(file_adult)\n",
    "reader_no_vae = ResultsReader(file_no_vae)\n",
    "\n",
    "\n",
    "file_path = os.path.join(\"results\",\"RESULTS_with_no_vae_race_sex.csv\")\n",
    "df = pd.concat([reader_adult.df, reader_compas.df, reader_no_vae.df])\n",
    "#df = reader_compas.df # if adult not ready yet\n",
    "df.to_csv(file_path, index=False)"
   ]
  }
 ],
 "metadata": {
  "kernelspec": {
   "display_name": "Python 3",
   "language": "python",
   "name": "python3"
  },
  "language_info": {
   "codemirror_mode": {
    "name": "ipython",
    "version": 3
   },
   "file_extension": ".py",
   "mimetype": "text/x-python",
   "name": "python",
   "nbconvert_exporter": "python",
   "pygments_lexer": "ipython3",
   "version": "3.9.13"
  }
 },
 "nbformat": 4,
 "nbformat_minor": 2
}
