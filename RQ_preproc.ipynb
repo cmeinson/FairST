{
 "cells": [
  {
   "cell_type": "markdown",
   "metadata": {},
   "source": [
    "## OG FILES:\n",
    "output of the main...py files\n",
    "\n",
    "#### MAIN_all_2_race.csv\n",
    "#### MAIN_all_2_sex.csv\n",
    "- all single attr runs on Adult and Compas with EN, NN, LGR, RF, DT, SVM, NB\n",
    "- 4x10 run for each config\n",
    "\n",
    "#### MAIN_all_race_sex.csv\n",
    "- 4x10 runs on Compas for multiattr with EN, NN, LGR, RF, DT, SVM, NB\n",
    "- has incomplete runs for Adult but those mostly errored bc of the EN\n",
    "\n",
    "#### MAIN_all_Adult_race_sex.csv\n",
    "- 4x10 runs on Adult for multiattr with NN, LGR, RF, DT, SVM, NB\n",
    "\n",
    "\n",
    "## Processed FILES:\n",
    "Files with:\n",
    "- EN removed\n",
    "- no summation rows (rows that avg results over last 4 iterations)\n",
    "- TP, FP, TN, FN, MCC added\n",
    "- all multiattr runs merged into one\n",
    "- VAR columns removed\n",
    "- 40 runs of each config\n",
    "\n",
    "#### RESULTS_race.csv\n",
    "#### RESULTS_sex.csv\n",
    "#### RESULTS_race_sex.csv\n",
    "\n"
   ]
  },
  {
   "cell_type": "code",
   "execution_count": 4,
   "metadata": {},
   "outputs": [],
   "source": [
    "import os\n",
    "import pandas as pd\n",
    "import matplotlib.pyplot as plt\n",
    "from matplotlib.cm import get_cmap\n",
    "\n",
    "from experiment_utils import *\n",
    "from src import *\n"
   ]
  },
  {
   "cell_type": "code",
   "execution_count": 5,
   "metadata": {},
   "outputs": [
    {
     "name": "stdout",
     "output_type": "stream",
     "text": [
      "File 'results\\MAIN_all_2_sex.csv' successfully loaded as DataFrame.\n",
      "File 'results\\MAIN_all_2_race.csv' successfully loaded as DataFrame.\n"
     ]
    }
   ],
   "source": [
    "# proc single attr runs\n",
    "\n",
    "for attr in [[\"sex\"],[\"race\"]]:\n",
    "    filenames = [\"MAIN_all_2_\"]\n",
    "    files = [ os.path.join(\"results\",name +\"_\".join(attr)+\".csv\") for name in filenames]\n",
    "    \n",
    "    reader = ResultsReader(files)\n",
    "    #reader.df = reader.df[~(reader.df[\"data\"].str.contains('German'))]\n",
    "    reader.df = reader.df[~(reader.df[\"ML method\"].str.contains('ElasticNet'))]\n",
    "    file_path = os.path.join(\"results\",\"RESULTS_\"+attr[0]+'.csv')\n",
    "    \n",
    "    reader.df.to_csv(file_path, index=False)"
   ]
  },
  {
   "cell_type": "code",
   "execution_count": 6,
   "metadata": {},
   "outputs": [
    {
     "name": "stdout",
     "output_type": "stream",
     "text": [
      "File 'results\\MAIN_all_race_sex.csv' successfully loaded as DataFrame.\n",
      "File 'results\\MAIN_all_Adult_race_sex.csv' successfully loaded as DataFrame.\n"
     ]
    }
   ],
   "source": [
    "# proc multi attr runs\n",
    "\n",
    "file_compas = os.path.join(\"results\", \"MAIN_all_race_sex.csv\")\n",
    "file_adult  = os.path.join(\"results\", \"MAIN_all_Adult_race_sex.csv\")\n",
    "\n",
    "\n",
    "reader_compas = ResultsReader(file_compas)\n",
    "reader_compas.df = reader_compas.df[~(reader_compas.df[\"data\"].str.contains('Adult'))]\n",
    "reader_compas.df = reader_compas.df[~(reader_compas.df[\"ML method\"].str.contains('ElasticNet'))]\n",
    "\n",
    "reader_adult = ResultsReader(file_adult)\n",
    "\n",
    "\n",
    "file_path = os.path.join(\"results\",\"RESULTS_race_sex.csv\")\n",
    "df = pd.concat([reader_adult.df, reader_compas.df])\n",
    "#df = reader_compas.df # if adult not ready yet\n",
    "df.to_csv(file_path, index=False)"
   ]
  },
  {
   "cell_type": "code",
   "execution_count": null,
   "metadata": {},
   "outputs": [],
   "source": []
  }
 ],
 "metadata": {
  "kernelspec": {
   "display_name": "Python 3",
   "language": "python",
   "name": "python3"
  },
  "language_info": {
   "codemirror_mode": {
    "name": "ipython",
    "version": 3
   },
   "file_extension": ".py",
   "mimetype": "text/x-python",
   "name": "python",
   "nbconvert_exporter": "python",
   "pygments_lexer": "ipython3",
   "version": "3.9.13"
  }
 },
 "nbformat": 4,
 "nbformat_minor": 2
}
